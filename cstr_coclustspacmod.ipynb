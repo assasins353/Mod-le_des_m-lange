{
 "cells": [
  {
   "cell_type": "code",
   "execution_count": 1,
   "metadata": {},
   "outputs": [],
   "source": [
    "from sklearn.metrics import (adjusted_rand_score as ari,\n",
    "                             normalized_mutual_info_score as nmi)\n",
    "import scipy.io as io\n",
    "import numpy as np\n",
    "from scipy.sparse import coo_matrix\n",
    "from coclust.coclustering import CoclustSpecMod"
   ]
  },
  {
   "cell_type": "code",
   "execution_count": 2,
   "metadata": {},
   "outputs": [],
   "source": [
    "file_name=\"/home/nazim/m2/mod_mel/Archive(1)/cstr_ti_n.mat\"\n",
    "file_name1=\"/home/nazim/m2/mod_mel/Archive/cstr.mat\"\n",
    "matlab_dict_norm = io.loadmat(file_name)\n",
    "matlab_dict = io.loadmat(file_name1)\n",
    "nbr_label=matlab_dict['gnd'].shape[0]"
   ]
  },
  {
   "cell_type": "code",
   "execution_count": 3,
   "metadata": {},
   "outputs": [
    {
     "name": "stderr",
     "output_type": "stream",
     "text": [
      "/home/nazim/.local/lib/python3.6/site-packages/sklearn/utils/validation.py:432: DeprecationWarning: 'warn_on_dtype' is deprecated in version 0.21 and will be removed in 0.23. Don't set `warn_on_dtype` to remove this warning.\n",
      "  DeprecationWarning)\n"
     ]
    },
    {
     "name": "stdout",
     "output_type": "stream",
     "text": [
      "model numero 0\n",
      "NMI: 0.7616689514979588\n",
      "ARI: 0.7978504139127923\n",
      "model numero"
     ]
    },
    {
     "name": "stderr",
     "output_type": "stream",
     "text": [
      "/home/nazim/.local/lib/python3.6/site-packages/sklearn/metrics/cluster/supervised.py:859: FutureWarning: The behavior of NMI will change in version 0.22. To match the behavior of 'v_measure_score', NMI will use average_method='arithmetic' by default.\n",
      "  FutureWarning)\n",
      "/home/nazim/.local/lib/python3.6/site-packages/sklearn/utils/validation.py:432: DeprecationWarning: 'warn_on_dtype' is deprecated in version 0.21 and will be removed in 0.23. Don't set `warn_on_dtype` to remove this warning.\n",
      "  DeprecationWarning)\n"
     ]
    },
    {
     "name": "stdout",
     "output_type": "stream",
     "text": [
      " 1\n",
      "NMI: 0.761668951497959\n",
      "ARI: 0.7978504139127923\n"
     ]
    },
    {
     "name": "stderr",
     "output_type": "stream",
     "text": [
      "/home/nazim/.local/lib/python3.6/site-packages/sklearn/metrics/cluster/supervised.py:859: FutureWarning: The behavior of NMI will change in version 0.22. To match the behavior of 'v_measure_score', NMI will use average_method='arithmetic' by default.\n",
      "  FutureWarning)\n",
      "/home/nazim/.local/lib/python3.6/site-packages/sklearn/utils/validation.py:432: DeprecationWarning: 'warn_on_dtype' is deprecated in version 0.21 and will be removed in 0.23. Don't set `warn_on_dtype` to remove this warning.\n",
      "  DeprecationWarning)\n"
     ]
    },
    {
     "name": "stdout",
     "output_type": "stream",
     "text": [
      "model numero 2\n",
      "NMI: 0.7599950567114495\n",
      "ARI: 0.7954948992977177\n"
     ]
    },
    {
     "name": "stderr",
     "output_type": "stream",
     "text": [
      "/home/nazim/.local/lib/python3.6/site-packages/sklearn/metrics/cluster/supervised.py:859: FutureWarning: The behavior of NMI will change in version 0.22. To match the behavior of 'v_measure_score', NMI will use average_method='arithmetic' by default.\n",
      "  FutureWarning)\n",
      "/home/nazim/.local/lib/python3.6/site-packages/sklearn/utils/validation.py:432: DeprecationWarning: 'warn_on_dtype' is deprecated in version 0.21 and will be removed in 0.23. Don't set `warn_on_dtype` to remove this warning.\n",
      "  DeprecationWarning)\n"
     ]
    },
    {
     "name": "stdout",
     "output_type": "stream",
     "text": [
      "model numero 3\n",
      "NMI: 0.7599950567114495\n",
      "ARI: 0.7954948992977177\n"
     ]
    },
    {
     "name": "stderr",
     "output_type": "stream",
     "text": [
      "/home/nazim/.local/lib/python3.6/site-packages/sklearn/metrics/cluster/supervised.py:859: FutureWarning: The behavior of NMI will change in version 0.22. To match the behavior of 'v_measure_score', NMI will use average_method='arithmetic' by default.\n",
      "  FutureWarning)\n",
      "/home/nazim/.local/lib/python3.6/site-packages/sklearn/utils/validation.py:432: DeprecationWarning: 'warn_on_dtype' is deprecated in version 0.21 and will be removed in 0.23. Don't set `warn_on_dtype` to remove this warning.\n",
      "  DeprecationWarning)\n"
     ]
    },
    {
     "name": "stdout",
     "output_type": "stream",
     "text": [
      "model numero 4\n",
      "NMI: 0.7599950567114495\n",
      "ARI: 0.7954948992977177\n",
      "model numero 5\n",
      "NMI: 0.7599950567114493\n",
      "ARI: 0.7954948992977177\n"
     ]
    },
    {
     "name": "stderr",
     "output_type": "stream",
     "text": [
      "/home/nazim/.local/lib/python3.6/site-packages/sklearn/metrics/cluster/supervised.py:859: FutureWarning: The behavior of NMI will change in version 0.22. To match the behavior of 'v_measure_score', NMI will use average_method='arithmetic' by default.\n",
      "  FutureWarning)\n",
      "/home/nazim/.local/lib/python3.6/site-packages/sklearn/utils/validation.py:432: DeprecationWarning: 'warn_on_dtype' is deprecated in version 0.21 and will be removed in 0.23. Don't set `warn_on_dtype` to remove this warning.\n",
      "  DeprecationWarning)\n",
      "/home/nazim/.local/lib/python3.6/site-packages/sklearn/metrics/cluster/supervised.py:859: FutureWarning: The behavior of NMI will change in version 0.22. To match the behavior of 'v_measure_score', NMI will use average_method='arithmetic' by default.\n",
      "  FutureWarning)\n",
      "/home/nazim/.local/lib/python3.6/site-packages/sklearn/utils/validation.py:432: DeprecationWarning: 'warn_on_dtype' is deprecated in version 0.21 and will be removed in 0.23. Don't set `warn_on_dtype` to remove this warning.\n",
      "  DeprecationWarning)\n"
     ]
    },
    {
     "name": "stdout",
     "output_type": "stream",
     "text": [
      "model numero 6\n",
      "NMI: 0.7599950567114495\n",
      "ARI: 0.7954948992977177\n"
     ]
    },
    {
     "name": "stderr",
     "output_type": "stream",
     "text": [
      "/home/nazim/.local/lib/python3.6/site-packages/sklearn/metrics/cluster/supervised.py:859: FutureWarning: The behavior of NMI will change in version 0.22. To match the behavior of 'v_measure_score', NMI will use average_method='arithmetic' by default.\n",
      "  FutureWarning)\n",
      "/home/nazim/.local/lib/python3.6/site-packages/sklearn/utils/validation.py:432: DeprecationWarning: 'warn_on_dtype' is deprecated in version 0.21 and will be removed in 0.23. Don't set `warn_on_dtype` to remove this warning.\n",
      "  DeprecationWarning)\n"
     ]
    },
    {
     "name": "stdout",
     "output_type": "stream",
     "text": [
      "model numero 7\n",
      "NMI: 0.7599950567114495\n",
      "ARI: 0.7954948992977177\n"
     ]
    },
    {
     "name": "stderr",
     "output_type": "stream",
     "text": [
      "/home/nazim/.local/lib/python3.6/site-packages/sklearn/metrics/cluster/supervised.py:859: FutureWarning: The behavior of NMI will change in version 0.22. To match the behavior of 'v_measure_score', NMI will use average_method='arithmetic' by default.\n",
      "  FutureWarning)\n",
      "/home/nazim/.local/lib/python3.6/site-packages/sklearn/utils/validation.py:432: DeprecationWarning: 'warn_on_dtype' is deprecated in version 0.21 and will be removed in 0.23. Don't set `warn_on_dtype` to remove this warning.\n",
      "  DeprecationWarning)\n"
     ]
    },
    {
     "name": "stdout",
     "output_type": "stream",
     "text": [
      "model numero 8\n",
      "NMI: 0.7599950567114495\n",
      "ARI: 0.7954948992977177\n"
     ]
    },
    {
     "name": "stderr",
     "output_type": "stream",
     "text": [
      "/home/nazim/.local/lib/python3.6/site-packages/sklearn/metrics/cluster/supervised.py:859: FutureWarning: The behavior of NMI will change in version 0.22. To match the behavior of 'v_measure_score', NMI will use average_method='arithmetic' by default.\n",
      "  FutureWarning)\n",
      "/home/nazim/.local/lib/python3.6/site-packages/sklearn/utils/validation.py:432: DeprecationWarning: 'warn_on_dtype' is deprecated in version 0.21 and will be removed in 0.23. Don't set `warn_on_dtype` to remove this warning.\n",
      "  DeprecationWarning)\n"
     ]
    },
    {
     "name": "stdout",
     "output_type": "stream",
     "text": [
      "model numero 9\n",
      "NMI: 0.7599950567114495\n",
      "ARI: 0.7954948992977177\n"
     ]
    },
    {
     "name": "stderr",
     "output_type": "stream",
     "text": [
      "/home/nazim/.local/lib/python3.6/site-packages/sklearn/metrics/cluster/supervised.py:859: FutureWarning: The behavior of NMI will change in version 0.22. To match the behavior of 'v_measure_score', NMI will use average_method='arithmetic' by default.\n",
      "  FutureWarning)\n",
      "/home/nazim/.local/lib/python3.6/site-packages/sklearn/utils/validation.py:432: DeprecationWarning: 'warn_on_dtype' is deprecated in version 0.21 and will be removed in 0.23. Don't set `warn_on_dtype` to remove this warning.\n",
      "  DeprecationWarning)\n"
     ]
    },
    {
     "name": "stdout",
     "output_type": "stream",
     "text": [
      "model numero 10\n",
      "NMI: 0.7599950567114495\n",
      "ARI: 0.7954948992977177\n"
     ]
    },
    {
     "name": "stderr",
     "output_type": "stream",
     "text": [
      "/home/nazim/.local/lib/python3.6/site-packages/sklearn/metrics/cluster/supervised.py:859: FutureWarning: The behavior of NMI will change in version 0.22. To match the behavior of 'v_measure_score', NMI will use average_method='arithmetic' by default.\n",
      "  FutureWarning)\n",
      "/home/nazim/.local/lib/python3.6/site-packages/sklearn/utils/validation.py:432: DeprecationWarning: 'warn_on_dtype' is deprecated in version 0.21 and will be removed in 0.23. Don't set `warn_on_dtype` to remove this warning.\n",
      "  DeprecationWarning)\n"
     ]
    },
    {
     "name": "stdout",
     "output_type": "stream",
     "text": [
      "model numero 11\n",
      "NMI: 0.7599950567114495\n",
      "ARI: 0.7954948992977177\n"
     ]
    },
    {
     "name": "stderr",
     "output_type": "stream",
     "text": [
      "/home/nazim/.local/lib/python3.6/site-packages/sklearn/metrics/cluster/supervised.py:859: FutureWarning: The behavior of NMI will change in version 0.22. To match the behavior of 'v_measure_score', NMI will use average_method='arithmetic' by default.\n",
      "  FutureWarning)\n",
      "/home/nazim/.local/lib/python3.6/site-packages/sklearn/utils/validation.py:432: DeprecationWarning: 'warn_on_dtype' is deprecated in version 0.21 and will be removed in 0.23. Don't set `warn_on_dtype` to remove this warning.\n",
      "  DeprecationWarning)\n"
     ]
    },
    {
     "name": "stdout",
     "output_type": "stream",
     "text": [
      "model numero 12\n",
      "NMI: 0.7599950567114493\n",
      "ARI: 0.7954948992977177\n"
     ]
    },
    {
     "name": "stderr",
     "output_type": "stream",
     "text": [
      "/home/nazim/.local/lib/python3.6/site-packages/sklearn/metrics/cluster/supervised.py:859: FutureWarning: The behavior of NMI will change in version 0.22. To match the behavior of 'v_measure_score', NMI will use average_method='arithmetic' by default.\n",
      "  FutureWarning)\n",
      "/home/nazim/.local/lib/python3.6/site-packages/sklearn/utils/validation.py:432: DeprecationWarning: 'warn_on_dtype' is deprecated in version 0.21 and will be removed in 0.23. Don't set `warn_on_dtype` to remove this warning.\n",
      "  DeprecationWarning)\n"
     ]
    },
    {
     "name": "stdout",
     "output_type": "stream",
     "text": [
      "model numero 13\n",
      "NMI: 0.7599950567114495\n",
      "ARI: 0.7954948992977177\n"
     ]
    },
    {
     "name": "stderr",
     "output_type": "stream",
     "text": [
      "/home/nazim/.local/lib/python3.6/site-packages/sklearn/metrics/cluster/supervised.py:859: FutureWarning: The behavior of NMI will change in version 0.22. To match the behavior of 'v_measure_score', NMI will use average_method='arithmetic' by default.\n",
      "  FutureWarning)\n",
      "/home/nazim/.local/lib/python3.6/site-packages/sklearn/utils/validation.py:432: DeprecationWarning: 'warn_on_dtype' is deprecated in version 0.21 and will be removed in 0.23. Don't set `warn_on_dtype` to remove this warning.\n",
      "  DeprecationWarning)\n"
     ]
    },
    {
     "name": "stdout",
     "output_type": "stream",
     "text": [
      "model numero 14\n",
      "NMI: 0.7599950567114493\n",
      "ARI: 0.7954948992977177\n"
     ]
    },
    {
     "name": "stderr",
     "output_type": "stream",
     "text": [
      "/home/nazim/.local/lib/python3.6/site-packages/sklearn/metrics/cluster/supervised.py:859: FutureWarning: The behavior of NMI will change in version 0.22. To match the behavior of 'v_measure_score', NMI will use average_method='arithmetic' by default.\n",
      "  FutureWarning)\n",
      "/home/nazim/.local/lib/python3.6/site-packages/sklearn/utils/validation.py:432: DeprecationWarning: 'warn_on_dtype' is deprecated in version 0.21 and will be removed in 0.23. Don't set `warn_on_dtype` to remove this warning.\n",
      "  DeprecationWarning)\n"
     ]
    },
    {
     "name": "stdout",
     "output_type": "stream",
     "text": [
      "model numero 15\n",
      "NMI: 0.7599950567114495\n",
      "ARI: 0.7954948992977177\n"
     ]
    },
    {
     "name": "stderr",
     "output_type": "stream",
     "text": [
      "/home/nazim/.local/lib/python3.6/site-packages/sklearn/metrics/cluster/supervised.py:859: FutureWarning: The behavior of NMI will change in version 0.22. To match the behavior of 'v_measure_score', NMI will use average_method='arithmetic' by default.\n",
      "  FutureWarning)\n",
      "/home/nazim/.local/lib/python3.6/site-packages/sklearn/utils/validation.py:432: DeprecationWarning: 'warn_on_dtype' is deprecated in version 0.21 and will be removed in 0.23. Don't set `warn_on_dtype` to remove this warning.\n",
      "  DeprecationWarning)\n"
     ]
    },
    {
     "name": "stdout",
     "output_type": "stream",
     "text": [
      "model numero 16\n",
      "NMI: 0.7599950567114495\n",
      "ARI: 0.7954948992977177\n"
     ]
    },
    {
     "name": "stderr",
     "output_type": "stream",
     "text": [
      "/home/nazim/.local/lib/python3.6/site-packages/sklearn/metrics/cluster/supervised.py:859: FutureWarning: The behavior of NMI will change in version 0.22. To match the behavior of 'v_measure_score', NMI will use average_method='arithmetic' by default.\n",
      "  FutureWarning)\n",
      "/home/nazim/.local/lib/python3.6/site-packages/sklearn/utils/validation.py:432: DeprecationWarning: 'warn_on_dtype' is deprecated in version 0.21 and will be removed in 0.23. Don't set `warn_on_dtype` to remove this warning.\n",
      "  DeprecationWarning)\n"
     ]
    },
    {
     "name": "stdout",
     "output_type": "stream",
     "text": [
      "model numero 17\n",
      "NMI: 0.7599950567114495\n",
      "ARI: 0.7954948992977177\n"
     ]
    },
    {
     "name": "stderr",
     "output_type": "stream",
     "text": [
      "/home/nazim/.local/lib/python3.6/site-packages/sklearn/metrics/cluster/supervised.py:859: FutureWarning: The behavior of NMI will change in version 0.22. To match the behavior of 'v_measure_score', NMI will use average_method='arithmetic' by default.\n",
      "  FutureWarning)\n",
      "/home/nazim/.local/lib/python3.6/site-packages/sklearn/utils/validation.py:432: DeprecationWarning: 'warn_on_dtype' is deprecated in version 0.21 and will be removed in 0.23. Don't set `warn_on_dtype` to remove this warning.\n",
      "  DeprecationWarning)\n"
     ]
    },
    {
     "name": "stdout",
     "output_type": "stream",
     "text": [
      "model numero 18\n",
      "NMI: 0.7599950567114493\n",
      "ARI: 0.7954948992977177\n"
     ]
    },
    {
     "name": "stderr",
     "output_type": "stream",
     "text": [
      "/home/nazim/.local/lib/python3.6/site-packages/sklearn/metrics/cluster/supervised.py:859: FutureWarning: The behavior of NMI will change in version 0.22. To match the behavior of 'v_measure_score', NMI will use average_method='arithmetic' by default.\n",
      "  FutureWarning)\n",
      "/home/nazim/.local/lib/python3.6/site-packages/sklearn/utils/validation.py:432: DeprecationWarning: 'warn_on_dtype' is deprecated in version 0.21 and will be removed in 0.23. Don't set `warn_on_dtype` to remove this warning.\n",
      "  DeprecationWarning)\n"
     ]
    },
    {
     "name": "stdout",
     "output_type": "stream",
     "text": [
      "model numero 19\n",
      "NMI: 0.7599950567114495\n",
      "ARI: 0.7954948992977177\n"
     ]
    },
    {
     "name": "stderr",
     "output_type": "stream",
     "text": [
      "/home/nazim/.local/lib/python3.6/site-packages/sklearn/metrics/cluster/supervised.py:859: FutureWarning: The behavior of NMI will change in version 0.22. To match the behavior of 'v_measure_score', NMI will use average_method='arithmetic' by default.\n",
      "  FutureWarning)\n"
     ]
    }
   ],
   "source": [
    "nmi_ = [0 for i in range(20)]\n",
    "ari_ = [0 for i in range(20)]\n",
    "cri= [0 for i in range(20)]\n",
    "max_iter=3\n",
    "n_init=3\n",
    "random_state=5\n",
    "X=matlab_dict_norm['dtm']\n",
    "nb_clusters=4\n",
    "for i in range(0,20):\n",
    "    \n",
    "    num_model=i\n",
    "    model = CoclustSpecMod(n_clusters=nb_clusters,max_iter=max_iter,\n",
    "                    n_init=n_init, random_state=random_state)\n",
    "    model.fit(X)\n",
    "\n",
    "    print(\"model numero\",num_model)\n",
    "    true_row_labels = matlab_dict['gnd'].flatten()\n",
    "    predicted_row_labels = model.row_labels_\n",
    "    nmi_[i] = nmi(true_row_labels, predicted_row_labels)\n",
    "    ari_[i]= ari(true_row_labels, predicted_row_labels)\n",
    "    print(\"NMI: {}\\nARI: {}\".format(nmi_[i], ari_[i]))\n",
    "    max_iter=max_iter+1\n",
    "    n_init=n_init+2\n",
    "    random_state=random_state+5\n",
    "    with open('%d.txt'%i, 'w') as f:\n",
    "        for item in predicted_row_labels:\n",
    "            f.write(\"%s\\n\" % item)"
   ]
  },
  {
   "cell_type": "code",
   "execution_count": 5,
   "metadata": {},
   "outputs": [
    {
     "name": "stdout",
     "output_type": "stream",
     "text": [
      "[5, 12, 14, 18, 2, 3, 4, 6, 7, 8, 9, 10, 11, 13, 15, 16, 17, 19, 0, 1]\n",
      "0.7599950567114495\n",
      "0.761668951497959\n",
      "[2, 3, 4, 5, 6, 7, 8, 9, 10, 11, 12, 13, 14, 15, 16, 17, 18, 19, 0, 1]\n",
      "0.7954948992977177\n",
      "0.7978504139127923\n"
     ]
    }
   ],
   "source": [
    "nmi_sort=sorted(range(len(nmi_)), key=lambda k: nmi_[k])\n",
    "print(nmi_sort)\n",
    "print(nmi_[nmi_sort[15]])\n",
    "print(nmi_[nmi_sort[19]])\n",
    "ari_sort=sorted(range(len(ari_)), key=lambda k: ari_[k])\n",
    "print(ari_sort)\n",
    "print(ari_[ari_sort[15]])\n",
    "print(ari_[ari_sort[19]])\n"
   ]
  },
  {
   "cell_type": "code",
   "execution_count": 11,
   "metadata": {},
   "outputs": [],
   "source": [
    "#17, 18, 19, 0, 1\n",
    "d = np.empty((5, nbr_label)).tolist()\n",
    "vec=[17, 18, 19, 0, 1]\n",
    "for i in range(0,5):\n",
    "    text_file = open('%d.txt'%vec[i], \"r\")\n",
    "    lines = text_file.read().split('\\n')\n",
    "    lines=lines[0:nbr_label]\n",
    "    lines = list(map(int, lines))\n",
    "    d[i]=lines\n",
    "d=np.array(d)\n",
    "for i in range(0,5):\n",
    "    d[i]=np.array(d[i])\n",
    "np.savetxt('d_coclustspecmod.txt', d, fmt='%d')"
   ]
  },
  {
   "cell_type": "code",
   "execution_count": 12,
   "metadata": {},
   "outputs": [
    {
     "name": "stdout",
     "output_type": "stream",
     "text": [
      "*****\n",
      "INFO: Cluster_Ensembles: CSPA: consensus clustering using CSPA.\n",
      "\n",
      "#\n",
      "INFO: Cluster_Ensembles: wgraph: writing wgraph_CSPA.\n",
      "#\n",
      "\n",
      "#\n",
      "INFO: Cluster_Ensembles: sgraph: calling gpmetis for graph partitioning.\n",
      "INFO: Cluster_Ensembles: sgraph: (hyper)-graph partitioning completed; loading wgraph_CSPA.part.4\n",
      "#\n"
     ]
    },
    {
     "name": "stderr",
     "output_type": "stream",
     "text": [
      "/home/nazim/.local/lib/python3.6/site-packages/sklearn/metrics/cluster/supervised.py:859: FutureWarning: The behavior of NMI will change in version 0.22. To match the behavior of 'v_measure_score', NMI will use average_method='arithmetic' by default.\n",
      "  FutureWarning)\n",
      "/home/nazim/.local/lib/python3.6/site-packages/sklearn/metrics/cluster/supervised.py:859: FutureWarning: The behavior of NMI will change in version 0.22. To match the behavior of 'v_measure_score', NMI will use average_method='arithmetic' by default.\n",
      "  FutureWarning)\n",
      "/home/nazim/.local/lib/python3.6/site-packages/sklearn/metrics/cluster/supervised.py:859: FutureWarning: The behavior of NMI will change in version 0.22. To match the behavior of 'v_measure_score', NMI will use average_method='arithmetic' by default.\n",
      "  FutureWarning)\n",
      "/home/nazim/.local/lib/python3.6/site-packages/sklearn/metrics/cluster/supervised.py:859: FutureWarning: The behavior of NMI will change in version 0.22. To match the behavior of 'v_measure_score', NMI will use average_method='arithmetic' by default.\n",
      "  FutureWarning)\n",
      "/home/nazim/.local/lib/python3.6/site-packages/sklearn/metrics/cluster/supervised.py:859: FutureWarning: The behavior of NMI will change in version 0.22. To match the behavior of 'v_measure_score', NMI will use average_method='arithmetic' by default.\n",
      "  FutureWarning)\n",
      "/home/nazim/.local/lib/python3.6/site-packages/sklearn/metrics/cluster/supervised.py:859: FutureWarning: The behavior of NMI will change in version 0.22. To match the behavior of 'v_measure_score', NMI will use average_method='arithmetic' by default.\n",
      "  FutureWarning)\n",
      "/home/nazim/.local/lib/python3.6/site-packages/sklearn/metrics/cluster/supervised.py:859: FutureWarning: The behavior of NMI will change in version 0.22. To match the behavior of 'v_measure_score', NMI will use average_method='arithmetic' by default.\n",
      "  FutureWarning)\n",
      "/home/nazim/.local/lib/python3.6/site-packages/sklearn/metrics/cluster/supervised.py:859: FutureWarning: The behavior of NMI will change in version 0.22. To match the behavior of 'v_measure_score', NMI will use average_method='arithmetic' by default.\n",
      "  FutureWarning)\n",
      "/home/nazim/.local/lib/python3.6/site-packages/sklearn/metrics/cluster/supervised.py:859: FutureWarning: The behavior of NMI will change in version 0.22. To match the behavior of 'v_measure_score', NMI will use average_method='arithmetic' by default.\n",
      "  FutureWarning)\n",
      "/home/nazim/.local/lib/python3.6/site-packages/sklearn/metrics/cluster/supervised.py:859: FutureWarning: The behavior of NMI will change in version 0.22. To match the behavior of 'v_measure_score', NMI will use average_method='arithmetic' by default.\n",
      "  FutureWarning)\n"
     ]
    },
    {
     "name": "stdout",
     "output_type": "stream",
     "text": [
      "\n",
      "INFO: Cluster_Ensembles: cluster_ensembles: CSPA at 0.7951089721706316.\n",
      "*****\n",
      "\n",
      "*****\n",
      "INFO: Cluster_Ensembles: HGPA: consensus clustering using HGPA.\n",
      "\n",
      "#\n",
      "INFO: Cluster_Ensembles: wgraph: writing wgraph_HGPA.\n",
      "INFO: Cluster_Ensembles: wgraph: 475 vertices and 20 non-zero hyper-edges.\n",
      "#\n",
      "\n",
      "#\n",
      "INFO: Cluster_Ensembles: sgraph: calling shmetis for hypergraph partitioning.\n",
      "INFO: Cluster_Ensembles: sgraph: (hyper)-graph partitioning completed; loading wgraph_HGPA.part.4\n",
      "#\n",
      "\n",
      "INFO: Cluster_Ensembles: cluster_ensembles: HGPA at 0.0046235776639105535.\n",
      "*****\n",
      "\n",
      "*****\n",
      "INFO: Cluster_Ensembles: MCLA: consensus clustering using MCLA.\n",
      "INFO: Cluster_Ensembles: MCLA: preparing graph for meta-clustering.\n",
      "INFO: Cluster_Ensembles: MCLA: done filling hypergraph adjacency matrix. Starting computation of Jaccard similarity matrix.\n",
      "INFO: Cluster_Ensembles: MCLA: starting computation of Jaccard similarity matrix.\n",
      "INFO: Cluster_Ensembles: MCLA: done computing the matrix of pairwise Jaccard similarity scores.\n",
      "\n",
      "#\n",
      "INFO: Cluster_Ensembles: wgraph: writing wgraph_MCLA.\n",
      "#\n",
      "\n",
      "#\n",
      "INFO: Cluster_Ensembles: sgraph: calling gpmetis for graph partitioning.\n",
      "INFO: Cluster_Ensembles: sgraph: (hyper)-graph partitioning completed; loading wgraph_MCLA.part.4\n",
      "#\n",
      "INFO: Cluster_Ensembles: MCLA: delivering 4 clusters.\n",
      "INFO: Cluster_Ensembles: MCLA: average posterior probability is 0.5458155311776612\n",
      "\n",
      "INFO: Cluster_Ensembles: cluster_ensembles: MCLA at 0.9965399265156086.\n",
      "*****\n"
     ]
    },
    {
     "name": "stderr",
     "output_type": "stream",
     "text": [
      "/home/nazim/.local/lib/python3.6/site-packages/sklearn/metrics/cluster/supervised.py:859: FutureWarning: The behavior of NMI will change in version 0.22. To match the behavior of 'v_measure_score', NMI will use average_method='arithmetic' by default.\n",
      "  FutureWarning)\n",
      "/home/nazim/.local/lib/python3.6/site-packages/sklearn/metrics/cluster/supervised.py:859: FutureWarning: The behavior of NMI will change in version 0.22. To match the behavior of 'v_measure_score', NMI will use average_method='arithmetic' by default.\n",
      "  FutureWarning)\n",
      "/home/nazim/.local/lib/python3.6/site-packages/sklearn/metrics/cluster/supervised.py:859: FutureWarning: The behavior of NMI will change in version 0.22. To match the behavior of 'v_measure_score', NMI will use average_method='arithmetic' by default.\n",
      "  FutureWarning)\n",
      "/home/nazim/.local/lib/python3.6/site-packages/sklearn/metrics/cluster/supervised.py:859: FutureWarning: The behavior of NMI will change in version 0.22. To match the behavior of 'v_measure_score', NMI will use average_method='arithmetic' by default.\n",
      "  FutureWarning)\n",
      "/home/nazim/.local/lib/python3.6/site-packages/sklearn/metrics/cluster/supervised.py:859: FutureWarning: The behavior of NMI will change in version 0.22. To match the behavior of 'v_measure_score', NMI will use average_method='arithmetic' by default.\n",
      "  FutureWarning)\n"
     ]
    }
   ],
   "source": [
    "import Cluster_Ensembles as CE\n",
    "consensus_clustering_labels = CE.cluster_ensembles(d, verbose = True, N_clusters_max = 4)"
   ]
  },
  {
   "cell_type": "code",
   "execution_count": 14,
   "metadata": {},
   "outputs": [
    {
     "name": "stdout",
     "output_type": "stream",
     "text": [
      "NMI: 0.7599950567114493\n",
      "ARI: 0.7954948992977177\n"
     ]
    },
    {
     "name": "stderr",
     "output_type": "stream",
     "text": [
      "/home/nazim/.local/lib/python3.6/site-packages/sklearn/metrics/cluster/supervised.py:859: FutureWarning: The behavior of NMI will change in version 0.22. To match the behavior of 'v_measure_score', NMI will use average_method='arithmetic' by default.\n",
      "  FutureWarning)\n"
     ]
    }
   ],
   "source": [
    "predicted_row_labels=consensus_clustering_labels\n",
    "true_row_labels = matlab_dict['gnd'].flatten()\n",
    "nmi_cons = nmi(true_row_labels, predicted_row_labels)\n",
    "ari_cons= ari(true_row_labels, predicted_row_labels)\n",
    "print(\"NMI: {}\\nARI: {}\".format(nmi_cons, ari_cons))"
   ]
  },
  {
   "cell_type": "code",
   "execution_count": 15,
   "metadata": {},
   "outputs": [],
   "source": [
    "h=w=nbr_label\n",
    "Matrix = [[0 for x in range(w)] for y in range(h)]\n",
    "m=np.array(Matrix)\n",
    "d=d.transpose()\n",
    "for i in range(0,nbr_label):\n",
    "    for j in range(0,nbr_label):\n",
    "        sum=0\n",
    "        for k in range(0,4):\n",
    "            if(d[i,k]==d[j,k]):\n",
    "                sum=sum+1\n",
    "        sum=sum/4\n",
    "        m[i,j]=sum"
   ]
  },
  {
   "cell_type": "code",
   "execution_count": 17,
   "metadata": {},
   "outputs": [
    {
     "name": "stdout",
     "output_type": "stream",
     "text": [
      "NMI: 0.6009067158152579\n",
      "ARI: 0.4745524935646622\n"
     ]
    },
    {
     "name": "stderr",
     "output_type": "stream",
     "text": [
      "/home/nazim/.local/lib/python3.6/site-packages/sklearn/metrics/cluster/supervised.py:859: FutureWarning: The behavior of NMI will change in version 0.22. To match the behavior of 'v_measure_score', NMI will use average_method='arithmetic' by default.\n",
      "  FutureWarning)\n"
     ]
    }
   ],
   "source": [
    "nb_cluster=4  \n",
    "model = CoclustSpecMod(n_clusters=nb_clusters,max_iter=5,\n",
    "                    n_init=5, random_state=5)\n",
    "model.fit(m)\n",
    "\n",
    "\n",
    "\n",
    "true_row_labels = matlab_dict['gnd'].flatten()\n",
    "predicted_row_labels = model.row_labels_\n",
    "nmi= nmi(true_row_labels, predicted_row_labels)\n",
    "ari= ari(true_row_labels, predicted_row_labels)\n",
    "print(\"NMI: {}\\nARI: {}\".format(nmi, ari))"
   ]
  },
  {
   "cell_type": "code",
   "execution_count": 6,
   "metadata": {},
   "outputs": [],
   "source": [
    "liste = np.empty((6, 4)).tolist()\n",
    "d=d.transpose()\n",
    "for i in range(0,5):\n",
    "    liste[i]=d[i]\n",
    "from spherecluster import SphericalKMeans\n",
    "X=matlab_dict_norm['dtm']\n",
    "skm = SphericalKMeans(n_clusters=4)\n",
    "skm.fit(X)\n",
    "liste[5]=skm.labels_\n",
    "liste=np.array(liste)\n"
   ]
  },
  {
   "cell_type": "code",
   "execution_count": 7,
   "metadata": {},
   "outputs": [
    {
     "name": "stdout",
     "output_type": "stream",
     "text": [
      "*****\n",
      "INFO: Cluster_Ensembles: CSPA: consensus clustering using CSPA.\n",
      "\n",
      "#\n",
      "INFO: Cluster_Ensembles: wgraph: writing wgraph_CSPA.\n",
      "#\n",
      "\n",
      "#\n",
      "INFO: Cluster_Ensembles: sgraph: calling gpmetis for graph partitioning.\n",
      "INFO: Cluster_Ensembles: sgraph: (hyper)-graph partitioning completed; loading wgraph_CSPA.part.4\n",
      "#\n"
     ]
    },
    {
     "name": "stderr",
     "output_type": "stream",
     "text": [
      "/home/nazim/.local/lib/python3.6/site-packages/sklearn/metrics/cluster/supervised.py:859: FutureWarning: The behavior of NMI will change in version 0.22. To match the behavior of 'v_measure_score', NMI will use average_method='arithmetic' by default.\n",
      "  FutureWarning)\n",
      "/home/nazim/.local/lib/python3.6/site-packages/sklearn/metrics/cluster/supervised.py:859: FutureWarning: The behavior of NMI will change in version 0.22. To match the behavior of 'v_measure_score', NMI will use average_method='arithmetic' by default.\n",
      "  FutureWarning)\n",
      "/home/nazim/.local/lib/python3.6/site-packages/sklearn/metrics/cluster/supervised.py:859: FutureWarning: The behavior of NMI will change in version 0.22. To match the behavior of 'v_measure_score', NMI will use average_method='arithmetic' by default.\n",
      "  FutureWarning)\n",
      "/home/nazim/.local/lib/python3.6/site-packages/sklearn/metrics/cluster/supervised.py:859: FutureWarning: The behavior of NMI will change in version 0.22. To match the behavior of 'v_measure_score', NMI will use average_method='arithmetic' by default.\n",
      "  FutureWarning)\n",
      "/home/nazim/.local/lib/python3.6/site-packages/sklearn/metrics/cluster/supervised.py:859: FutureWarning: The behavior of NMI will change in version 0.22. To match the behavior of 'v_measure_score', NMI will use average_method='arithmetic' by default.\n",
      "  FutureWarning)\n",
      "/home/nazim/.local/lib/python3.6/site-packages/sklearn/metrics/cluster/supervised.py:859: FutureWarning: The behavior of NMI will change in version 0.22. To match the behavior of 'v_measure_score', NMI will use average_method='arithmetic' by default.\n",
      "  FutureWarning)\n",
      "/home/nazim/.local/lib/python3.6/site-packages/sklearn/metrics/cluster/supervised.py:859: FutureWarning: The behavior of NMI will change in version 0.22. To match the behavior of 'v_measure_score', NMI will use average_method='arithmetic' by default.\n",
      "  FutureWarning)\n",
      "/home/nazim/.local/lib/python3.6/site-packages/sklearn/metrics/cluster/supervised.py:859: FutureWarning: The behavior of NMI will change in version 0.22. To match the behavior of 'v_measure_score', NMI will use average_method='arithmetic' by default.\n",
      "  FutureWarning)\n",
      "/home/nazim/.local/lib/python3.6/site-packages/sklearn/metrics/cluster/supervised.py:859: FutureWarning: The behavior of NMI will change in version 0.22. To match the behavior of 'v_measure_score', NMI will use average_method='arithmetic' by default.\n",
      "  FutureWarning)\n",
      "/home/nazim/.local/lib/python3.6/site-packages/sklearn/metrics/cluster/supervised.py:859: FutureWarning: The behavior of NMI will change in version 0.22. To match the behavior of 'v_measure_score', NMI will use average_method='arithmetic' by default.\n",
      "  FutureWarning)\n",
      "/home/nazim/.local/lib/python3.6/site-packages/sklearn/metrics/cluster/supervised.py:859: FutureWarning: The behavior of NMI will change in version 0.22. To match the behavior of 'v_measure_score', NMI will use average_method='arithmetic' by default.\n",
      "  FutureWarning)\n",
      "/home/nazim/.local/lib/python3.6/site-packages/sklearn/metrics/cluster/supervised.py:859: FutureWarning: The behavior of NMI will change in version 0.22. To match the behavior of 'v_measure_score', NMI will use average_method='arithmetic' by default.\n",
      "  FutureWarning)\n"
     ]
    },
    {
     "name": "stdout",
     "output_type": "stream",
     "text": [
      "\n",
      "INFO: Cluster_Ensembles: cluster_ensembles: CSPA at 0.7664036902033021.\n",
      "*****\n",
      "\n",
      "*****\n",
      "INFO: Cluster_Ensembles: HGPA: consensus clustering using HGPA.\n",
      "\n",
      "#\n",
      "INFO: Cluster_Ensembles: wgraph: writing wgraph_HGPA.\n",
      "INFO: Cluster_Ensembles: wgraph: 475 vertices and 24 non-zero hyper-edges.\n",
      "#\n",
      "\n",
      "#\n",
      "INFO: Cluster_Ensembles: sgraph: calling shmetis for hypergraph partitioning.\n",
      "INFO: Cluster_Ensembles: sgraph: (hyper)-graph partitioning completed; loading wgraph_HGPA.part.4\n",
      "#\n",
      "\n",
      "INFO: Cluster_Ensembles: cluster_ensembles: HGPA at 0.00487520878020811.\n",
      "*****\n",
      "\n",
      "*****\n",
      "INFO: Cluster_Ensembles: MCLA: consensus clustering using MCLA.\n",
      "INFO: Cluster_Ensembles: MCLA: preparing graph for meta-clustering.\n",
      "INFO: Cluster_Ensembles: MCLA: done filling hypergraph adjacency matrix. Starting computation of Jaccard similarity matrix.\n",
      "INFO: Cluster_Ensembles: MCLA: starting computation of Jaccard similarity matrix.\n",
      "INFO: Cluster_Ensembles: MCLA: done computing the matrix of pairwise Jaccard similarity scores.\n",
      "\n",
      "#\n",
      "INFO: Cluster_Ensembles: wgraph: writing wgraph_MCLA.\n",
      "#\n",
      "\n",
      "#\n",
      "INFO: Cluster_Ensembles: sgraph: calling gpmetis for graph partitioning.\n",
      "INFO: Cluster_Ensembles: sgraph: (hyper)-graph partitioning completed; loading wgraph_MCLA.part.4\n",
      "#\n",
      "INFO: Cluster_Ensembles: MCLA: delivering 4 clusters.\n",
      "INFO: Cluster_Ensembles: MCLA: average posterior probability is 0.4815230221417791\n",
      "\n",
      "INFO: Cluster_Ensembles: cluster_ensembles: MCLA at 0.9297360708701812.\n",
      "*****\n"
     ]
    },
    {
     "name": "stderr",
     "output_type": "stream",
     "text": [
      "/home/nazim/.local/lib/python3.6/site-packages/sklearn/metrics/cluster/supervised.py:859: FutureWarning: The behavior of NMI will change in version 0.22. To match the behavior of 'v_measure_score', NMI will use average_method='arithmetic' by default.\n",
      "  FutureWarning)\n",
      "/home/nazim/.local/lib/python3.6/site-packages/sklearn/metrics/cluster/supervised.py:859: FutureWarning: The behavior of NMI will change in version 0.22. To match the behavior of 'v_measure_score', NMI will use average_method='arithmetic' by default.\n",
      "  FutureWarning)\n",
      "/home/nazim/.local/lib/python3.6/site-packages/sklearn/metrics/cluster/supervised.py:859: FutureWarning: The behavior of NMI will change in version 0.22. To match the behavior of 'v_measure_score', NMI will use average_method='arithmetic' by default.\n",
      "  FutureWarning)\n",
      "/home/nazim/.local/lib/python3.6/site-packages/sklearn/metrics/cluster/supervised.py:859: FutureWarning: The behavior of NMI will change in version 0.22. To match the behavior of 'v_measure_score', NMI will use average_method='arithmetic' by default.\n",
      "  FutureWarning)\n",
      "/home/nazim/.local/lib/python3.6/site-packages/sklearn/metrics/cluster/supervised.py:859: FutureWarning: The behavior of NMI will change in version 0.22. To match the behavior of 'v_measure_score', NMI will use average_method='arithmetic' by default.\n",
      "  FutureWarning)\n",
      "/home/nazim/.local/lib/python3.6/site-packages/sklearn/metrics/cluster/supervised.py:859: FutureWarning: The behavior of NMI will change in version 0.22. To match the behavior of 'v_measure_score', NMI will use average_method='arithmetic' by default.\n",
      "  FutureWarning)\n"
     ]
    }
   ],
   "source": [
    "import Cluster_Ensembles as CE\n",
    "consensus_clustering_labels = CE.cluster_ensembles(liste, verbose = True, N_clusters_max = 4)"
   ]
  },
  {
   "cell_type": "code",
   "execution_count": 8,
   "metadata": {},
   "outputs": [
    {
     "name": "stdout",
     "output_type": "stream",
     "text": [
      "NMI: 0.7422281768608557\n",
      "ARI: 0.793355807135295\n"
     ]
    },
    {
     "name": "stderr",
     "output_type": "stream",
     "text": [
      "/home/nazim/.local/lib/python3.6/site-packages/sklearn/metrics/cluster/supervised.py:859: FutureWarning: The behavior of NMI will change in version 0.22. To match the behavior of 'v_measure_score', NMI will use average_method='arithmetic' by default.\n",
      "  FutureWarning)\n"
     ]
    }
   ],
   "source": [
    "predicted_row_labels=consensus_clustering_labels\n",
    "\n",
    "true_row_labels = matlab_dict['gnd'].flatten()\n",
    "nmi_cons = nmi(true_row_labels, predicted_row_labels)\n",
    "ari_cons= ari(true_row_labels, predicted_row_labels)\n",
    "print(\"NMI: {}\\nARI: {}\".format(nmi_cons, ari_cons))"
   ]
  },
  {
   "cell_type": "code",
   "execution_count": 3,
   "metadata": {},
   "outputs": [],
   "source": [
    "d= np.loadtxt(\"d_coclustspecmod.txt\", dtype=int)"
   ]
  },
  {
   "cell_type": "code",
   "execution_count": null,
   "metadata": {},
   "outputs": [],
   "source": []
  }
 ],
 "metadata": {
  "kernelspec": {
   "display_name": "Python 3",
   "language": "python",
   "name": "python3"
  },
  "language_info": {
   "codemirror_mode": {
    "name": "ipython",
    "version": 3
   },
   "file_extension": ".py",
   "mimetype": "text/x-python",
   "name": "python",
   "nbconvert_exporter": "python",
   "pygments_lexer": "ipython3",
   "version": "3.6.8"
  }
 },
 "nbformat": 4,
 "nbformat_minor": 2
}
