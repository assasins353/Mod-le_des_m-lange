{
 "cells": [
  {
   "cell_type": "code",
   "execution_count": 17,
   "metadata": {},
   "outputs": [],
   "source": [
    "import numpy as np"
   ]
  },
  {
   "cell_type": "code",
   "execution_count": 18,
   "metadata": {},
   "outputs": [],
   "source": [
    "\n",
    "import scipy.io as io\n",
    "from sklearn.metrics import (adjusted_rand_score as ari,\n",
    "                             normalized_mutual_info_score as nmi)\n",
    "from coclust.coclustering import CoclustInfo\n",
    "from coclust.evaluation.external import accuracy\n",
    "\n"
   ]
  },
  {
   "cell_type": "code",
   "execution_count": 19,
   "metadata": {},
   "outputs": [],
   "source": [
    "file_name=\"/home/nazim/m2/mod_mel/Archive(1)/cstr_ti_n.mat\""
   ]
  },
  {
   "cell_type": "code",
   "execution_count": 20,
   "metadata": {},
   "outputs": [],
   "source": [
    "file_name1=\"/home/nazim/m2/mod_mel/Archive/cstr.mat\""
   ]
  },
  {
   "cell_type": "code",
   "execution_count": 21,
   "metadata": {},
   "outputs": [],
   "source": [
    "matlab_dict_norm = io.loadmat(file_name)\n",
    "matlab_dict = io.loadmat(file_name1)"
   ]
  },
  {
   "cell_type": "code",
   "execution_count": 37,
   "metadata": {},
   "outputs": [
    {
     "data": {
      "text/plain": [
       "(475, 1)"
      ]
     },
     "execution_count": 37,
     "metadata": {},
     "output_type": "execute_result"
    }
   ],
   "source": [
    "matlab_dict['gnd'].shape"
   ]
  },
  {
   "cell_type": "code",
   "execution_count": 22,
   "metadata": {},
   "outputs": [],
   "source": [
    "nbr_label=matlab_dict['gnd'].shape[0]"
   ]
  },
  {
   "cell_type": "code",
   "execution_count": 23,
   "metadata": {},
   "outputs": [],
   "source": [
    "nmi_ = [0 for i in range(20)]\n",
    "ari_ = [0 for i in range(20)]\n",
    "cri= [0 for i in range(20)]"
   ]
  },
  {
   "cell_type": "code",
   "execution_count": 24,
   "metadata": {},
   "outputs": [
    {
     "name": "stdout",
     "output_type": "stream",
     "text": [
      "model numero 0\n",
      "CRITERION: 0.3506366585464544\n",
      "NMI: 0.3787662779916447\n",
      "ARI: 0.3549850906261743\n"
     ]
    },
    {
     "name": "stderr",
     "output_type": "stream",
     "text": [
      "/home/nazim/.local/lib/python3.6/site-packages/sklearn/metrics/cluster/supervised.py:859: FutureWarning: The behavior of NMI will change in version 0.22. To match the behavior of 'v_measure_score', NMI will use average_method='arithmetic' by default.\n",
      "  FutureWarning)\n"
     ]
    },
    {
     "name": "stdout",
     "output_type": "stream",
     "text": [
      "model numero 1\n",
      "CRITERION: 0.3843605954488468\n",
      "NMI: 0.48656749136812105\n",
      "ARI: 0.5005759380010194\n"
     ]
    },
    {
     "name": "stderr",
     "output_type": "stream",
     "text": [
      "/home/nazim/.local/lib/python3.6/site-packages/sklearn/metrics/cluster/supervised.py:859: FutureWarning: The behavior of NMI will change in version 0.22. To match the behavior of 'v_measure_score', NMI will use average_method='arithmetic' by default.\n",
      "  FutureWarning)\n"
     ]
    },
    {
     "name": "stdout",
     "output_type": "stream",
     "text": [
      "model numero 2\n",
      "CRITERION: 0.4761114776160871\n",
      "NMI: 0.5806526025418504\n",
      "ARI: 0.5872716294015204\n"
     ]
    },
    {
     "name": "stderr",
     "output_type": "stream",
     "text": [
      "/home/nazim/.local/lib/python3.6/site-packages/sklearn/metrics/cluster/supervised.py:859: FutureWarning: The behavior of NMI will change in version 0.22. To match the behavior of 'v_measure_score', NMI will use average_method='arithmetic' by default.\n",
      "  FutureWarning)\n"
     ]
    },
    {
     "name": "stdout",
     "output_type": "stream",
     "text": [
      "model numero 3\n",
      "CRITERION: 0.45232568586900546\n",
      "NMI: 0.570970406938835\n",
      "ARI: 0.5749303304780837\n"
     ]
    },
    {
     "name": "stderr",
     "output_type": "stream",
     "text": [
      "/home/nazim/.local/lib/python3.6/site-packages/sklearn/metrics/cluster/supervised.py:859: FutureWarning: The behavior of NMI will change in version 0.22. To match the behavior of 'v_measure_score', NMI will use average_method='arithmetic' by default.\n",
      "  FutureWarning)\n"
     ]
    },
    {
     "name": "stdout",
     "output_type": "stream",
     "text": [
      "model numero 4\n",
      "CRITERION: 0.5023143610003683\n",
      "NMI: 0.6752864636481365\n",
      "ARI: 0.6594452125275294\n"
     ]
    },
    {
     "name": "stderr",
     "output_type": "stream",
     "text": [
      "/home/nazim/.local/lib/python3.6/site-packages/sklearn/metrics/cluster/supervised.py:859: FutureWarning: The behavior of NMI will change in version 0.22. To match the behavior of 'v_measure_score', NMI will use average_method='arithmetic' by default.\n",
      "  FutureWarning)\n"
     ]
    },
    {
     "name": "stdout",
     "output_type": "stream",
     "text": [
      "model numero 5\n",
      "CRITERION: 0.4817244251511171\n",
      "NMI: 0.6498723971453916\n",
      "ARI: 0.5929004612070176\n"
     ]
    },
    {
     "name": "stderr",
     "output_type": "stream",
     "text": [
      "/home/nazim/.local/lib/python3.6/site-packages/sklearn/metrics/cluster/supervised.py:859: FutureWarning: The behavior of NMI will change in version 0.22. To match the behavior of 'v_measure_score', NMI will use average_method='arithmetic' by default.\n",
      "  FutureWarning)\n"
     ]
    },
    {
     "name": "stdout",
     "output_type": "stream",
     "text": [
      "model numero 6\n",
      "CRITERION: 0.5065427636334929\n",
      "NMI: 0.6814442231810091\n",
      "ARI: 0.71815506431131\n"
     ]
    },
    {
     "name": "stderr",
     "output_type": "stream",
     "text": [
      "/home/nazim/.local/lib/python3.6/site-packages/sklearn/metrics/cluster/supervised.py:859: FutureWarning: The behavior of NMI will change in version 0.22. To match the behavior of 'v_measure_score', NMI will use average_method='arithmetic' by default.\n",
      "  FutureWarning)\n"
     ]
    },
    {
     "name": "stdout",
     "output_type": "stream",
     "text": [
      "model numero 7\n",
      "CRITERION: 0.5053785190454576\n",
      "NMI: 0.6837958079526565\n",
      "ARI: 0.7111460400256456\n"
     ]
    },
    {
     "name": "stderr",
     "output_type": "stream",
     "text": [
      "/home/nazim/.local/lib/python3.6/site-packages/sklearn/metrics/cluster/supervised.py:859: FutureWarning: The behavior of NMI will change in version 0.22. To match the behavior of 'v_measure_score', NMI will use average_method='arithmetic' by default.\n",
      "  FutureWarning)\n"
     ]
    },
    {
     "name": "stdout",
     "output_type": "stream",
     "text": [
      "model numero 8\n",
      "CRITERION: 0.512750049354388\n",
      "NMI: 0.7808174474812488\n",
      "ARI: 0.8333751919675998\n"
     ]
    },
    {
     "name": "stderr",
     "output_type": "stream",
     "text": [
      "/home/nazim/.local/lib/python3.6/site-packages/sklearn/metrics/cluster/supervised.py:859: FutureWarning: The behavior of NMI will change in version 0.22. To match the behavior of 'v_measure_score', NMI will use average_method='arithmetic' by default.\n",
      "  FutureWarning)\n"
     ]
    },
    {
     "name": "stdout",
     "output_type": "stream",
     "text": [
      "model numero 9\n",
      "CRITERION: 0.5094655834360137\n",
      "NMI: 0.7007821403877998\n",
      "ARI: 0.6248983544704694\n"
     ]
    },
    {
     "name": "stderr",
     "output_type": "stream",
     "text": [
      "/home/nazim/.local/lib/python3.6/site-packages/sklearn/metrics/cluster/supervised.py:859: FutureWarning: The behavior of NMI will change in version 0.22. To match the behavior of 'v_measure_score', NMI will use average_method='arithmetic' by default.\n",
      "  FutureWarning)\n"
     ]
    },
    {
     "name": "stdout",
     "output_type": "stream",
     "text": [
      "model numero 10\n",
      "CRITERION: 0.5057523122052336\n",
      "NMI: 0.7133588514231642\n",
      "ARI: 0.7621591225235903\n"
     ]
    },
    {
     "name": "stderr",
     "output_type": "stream",
     "text": [
      "/home/nazim/.local/lib/python3.6/site-packages/sklearn/metrics/cluster/supervised.py:859: FutureWarning: The behavior of NMI will change in version 0.22. To match the behavior of 'v_measure_score', NMI will use average_method='arithmetic' by default.\n",
      "  FutureWarning)\n"
     ]
    },
    {
     "name": "stdout",
     "output_type": "stream",
     "text": [
      "model numero 11\n",
      "CRITERION: 0.5075461860178228\n",
      "NMI: 0.7220132046692759\n",
      "ARI: 0.7705574324203115\n"
     ]
    },
    {
     "name": "stderr",
     "output_type": "stream",
     "text": [
      "/home/nazim/.local/lib/python3.6/site-packages/sklearn/metrics/cluster/supervised.py:859: FutureWarning: The behavior of NMI will change in version 0.22. To match the behavior of 'v_measure_score', NMI will use average_method='arithmetic' by default.\n",
      "  FutureWarning)\n"
     ]
    },
    {
     "name": "stdout",
     "output_type": "stream",
     "text": [
      "model numero 12\n",
      "CRITERION: 0.506091463828153\n",
      "NMI: 0.7023842575663193\n",
      "ARI: 0.7413418630899874\n"
     ]
    },
    {
     "name": "stderr",
     "output_type": "stream",
     "text": [
      "/home/nazim/.local/lib/python3.6/site-packages/sklearn/metrics/cluster/supervised.py:859: FutureWarning: The behavior of NMI will change in version 0.22. To match the behavior of 'v_measure_score', NMI will use average_method='arithmetic' by default.\n",
      "  FutureWarning)\n"
     ]
    },
    {
     "name": "stdout",
     "output_type": "stream",
     "text": [
      "model numero 13\n",
      "CRITERION: 0.5122944937986218\n",
      "NMI: 0.7121415478585448\n",
      "ARI: 0.752344051914698\n"
     ]
    },
    {
     "name": "stderr",
     "output_type": "stream",
     "text": [
      "/home/nazim/.local/lib/python3.6/site-packages/sklearn/metrics/cluster/supervised.py:859: FutureWarning: The behavior of NMI will change in version 0.22. To match the behavior of 'v_measure_score', NMI will use average_method='arithmetic' by default.\n",
      "  FutureWarning)\n"
     ]
    },
    {
     "name": "stdout",
     "output_type": "stream",
     "text": [
      "model numero 14\n",
      "CRITERION: 0.5085623646667599\n",
      "NMI: 0.6840235643900892\n",
      "ARI: 0.6577791943615782\n"
     ]
    },
    {
     "name": "stderr",
     "output_type": "stream",
     "text": [
      "/home/nazim/.local/lib/python3.6/site-packages/sklearn/metrics/cluster/supervised.py:859: FutureWarning: The behavior of NMI will change in version 0.22. To match the behavior of 'v_measure_score', NMI will use average_method='arithmetic' by default.\n",
      "  FutureWarning)\n"
     ]
    },
    {
     "name": "stdout",
     "output_type": "stream",
     "text": [
      "model numero 15\n",
      "CRITERION: 0.5101124694658783\n",
      "NMI: 0.7239744590092064\n",
      "ARI: 0.6904387812399497\n"
     ]
    },
    {
     "name": "stderr",
     "output_type": "stream",
     "text": [
      "/home/nazim/.local/lib/python3.6/site-packages/sklearn/metrics/cluster/supervised.py:859: FutureWarning: The behavior of NMI will change in version 0.22. To match the behavior of 'v_measure_score', NMI will use average_method='arithmetic' by default.\n",
      "  FutureWarning)\n"
     ]
    },
    {
     "name": "stdout",
     "output_type": "stream",
     "text": [
      "model numero 16\n",
      "CRITERION: 0.5096369140859384\n",
      "NMI: 0.7109198437355518\n",
      "ARI: 0.6931564296496776\n"
     ]
    },
    {
     "name": "stderr",
     "output_type": "stream",
     "text": [
      "/home/nazim/.local/lib/python3.6/site-packages/sklearn/metrics/cluster/supervised.py:859: FutureWarning: The behavior of NMI will change in version 0.22. To match the behavior of 'v_measure_score', NMI will use average_method='arithmetic' by default.\n",
      "  FutureWarning)\n"
     ]
    },
    {
     "name": "stdout",
     "output_type": "stream",
     "text": [
      "model numero 17\n",
      "CRITERION: 0.509431014139031\n",
      "NMI: 0.7138594512757197\n",
      "ARI: 0.7215992037126656\n"
     ]
    },
    {
     "name": "stderr",
     "output_type": "stream",
     "text": [
      "/home/nazim/.local/lib/python3.6/site-packages/sklearn/metrics/cluster/supervised.py:859: FutureWarning: The behavior of NMI will change in version 0.22. To match the behavior of 'v_measure_score', NMI will use average_method='arithmetic' by default.\n",
      "  FutureWarning)\n"
     ]
    },
    {
     "name": "stdout",
     "output_type": "stream",
     "text": [
      "model numero 18\n",
      "CRITERION: 0.509750874259385\n",
      "NMI: 0.7172167938999043\n",
      "ARI: 0.7126149760565379\n"
     ]
    },
    {
     "name": "stderr",
     "output_type": "stream",
     "text": [
      "/home/nazim/.local/lib/python3.6/site-packages/sklearn/metrics/cluster/supervised.py:859: FutureWarning: The behavior of NMI will change in version 0.22. To match the behavior of 'v_measure_score', NMI will use average_method='arithmetic' by default.\n",
      "  FutureWarning)\n"
     ]
    },
    {
     "name": "stdout",
     "output_type": "stream",
     "text": [
      "model numero 19\n",
      "CRITERION: 0.508295758009986\n",
      "NMI: 0.7272770623885572\n",
      "ARI: 0.7307645619807964\n"
     ]
    },
    {
     "name": "stderr",
     "output_type": "stream",
     "text": [
      "/home/nazim/.local/lib/python3.6/site-packages/sklearn/metrics/cluster/supervised.py:859: FutureWarning: The behavior of NMI will change in version 0.22. To match the behavior of 'v_measure_score', NMI will use average_method='arithmetic' by default.\n",
      "  FutureWarning)\n"
     ]
    }
   ],
   "source": [
    "max_iter=3\n",
    "n_init=3\n",
    "random_state=5\n",
    "X=matlab_dict_norm['dtm']\n",
    "nb_clusters=4\n",
    "for i in range(0,20):\n",
    "    \n",
    "    num_model=i\n",
    "    model = CoclustInfo(n_row_clusters=nb_clusters, n_col_clusters=nb_clusters,max_iter=max_iter,\n",
    "                    n_init=n_init, random_state=random_state)\n",
    "    model.fit(X)\n",
    "\n",
    "    print(\"model numero\",num_model)\n",
    "    print(\"CRITERION: %s\" % model.criterion)\n",
    "    cri[i]=model.criterion\n",
    "    true_row_labels = matlab_dict['gnd'].flatten()\n",
    "    predicted_row_labels = model.row_labels_\n",
    "    nmi_[i] = nmi(true_row_labels, predicted_row_labels)\n",
    "    ari_[i]= ari(true_row_labels, predicted_row_labels)\n",
    "    print(\"NMI: {}\\nARI: {}\".format(nmi_[i], ari_[i]))\n",
    "    max_iter=max_iter+1\n",
    "    n_init=n_init+2\n",
    "    random_state=random_state+5\n",
    "    with open('%d.txt'%i, 'w') as f:\n",
    "        for item in predicted_row_labels:\n",
    "            f.write(\"%s\\n\" % item)\n"
   ]
  },
  {
   "cell_type": "code",
   "execution_count": 25,
   "metadata": {},
   "outputs": [
    {
     "name": "stdout",
     "output_type": "stream",
     "text": [
      "[0, 1, 3, 2, 5, 4, 6, 7, 14, 9, 12, 16, 13, 10, 17, 18, 11, 15, 19, 8]\n"
     ]
    }
   ],
   "source": [
    "nmi_sort=sorted(range(len(nmi_)), key=lambda k: nmi_[k])\n",
    "print(nmi_sort)"
   ]
  },
  {
   "cell_type": "code",
   "execution_count": 26,
   "metadata": {},
   "outputs": [
    {
     "name": "stdout",
     "output_type": "stream",
     "text": [
      "0.7172167938999043\n",
      "0.7808174474812488\n"
     ]
    }
   ],
   "source": [
    "print(nmi_[nmi_sort[15]])\n",
    "print(nmi_[nmi_sort[19]])"
   ]
  },
  {
   "cell_type": "code",
   "execution_count": 27,
   "metadata": {},
   "outputs": [
    {
     "name": "stdout",
     "output_type": "stream",
     "text": [
      "[0, 1, 3, 2, 5, 9, 14, 4, 15, 16, 7, 18, 6, 17, 19, 12, 13, 10, 11, 8]\n"
     ]
    }
   ],
   "source": [
    "ari_sort=sorted(range(len(ari_)), key=lambda k: ari_[k])\n",
    "print(ari_sort)"
   ]
  },
  {
   "cell_type": "code",
   "execution_count": 28,
   "metadata": {},
   "outputs": [
    {
     "name": "stdout",
     "output_type": "stream",
     "text": [
      "0.7413418630899874\n",
      "0.8333751919675998\n"
     ]
    }
   ],
   "source": [
    "print(ari_[ari_sort[15]])\n",
    "print(ari_[ari_sort[19]])"
   ]
  },
  {
   "cell_type": "code",
   "execution_count": 29,
   "metadata": {},
   "outputs": [
    {
     "name": "stdout",
     "output_type": "stream",
     "text": [
      "[0, 1, 3, 2, 5, 4, 7, 10, 12, 6, 11, 19, 14, 17, 9, 16, 18, 15, 13, 8]\n"
     ]
    }
   ],
   "source": [
    "cri_sort=sorted(range(len(cri)), key=lambda k: cri[k])\n",
    "print(cri_sort)"
   ]
  },
  {
   "cell_type": "code",
   "execution_count": 30,
   "metadata": {},
   "outputs": [
    {
     "name": "stdout",
     "output_type": "stream",
     "text": [
      "0.5096369140859384\n",
      "0.512750049354388\n"
     ]
    }
   ],
   "source": [
    "print(cri[cri_sort[15]])\n",
    "print(cri[cri_sort[19]])"
   ]
  },
  {
   "cell_type": "code",
   "execution_count": 31,
   "metadata": {},
   "outputs": [],
   "source": [
    "#16, 18, 15, 13, 8\n"
   ]
  },
  {
   "cell_type": "code",
   "execution_count": 32,
   "metadata": {},
   "outputs": [],
   "source": [
    "d = np.empty((5, nbr_label)).tolist()\n",
    "vec=[16, 18, 15, 13, 8]\n",
    "for i in range(0,5):\n",
    "    text_file = open('%d.txt'%vec[i], \"r\")\n",
    "    lines = text_file.read().split('\\n')\n",
    "    lines=lines[0:nbr_label]\n",
    "    lines = list(map(int, lines))\n",
    "    d[i]=lines\n",
    "d=np.array(d)\n",
    "for i in range(0,5):\n",
    "    d[i]=np.array(d[i])\n",
    "np.savetxt('d.txt', d, fmt='%d')"
   ]
  },
  {
   "cell_type": "code",
   "execution_count": 33,
   "metadata": {},
   "outputs": [],
   "source": [
    "import Cluster_Ensembles as CE"
   ]
  },
  {
   "cell_type": "code",
   "execution_count": 34,
   "metadata": {},
   "outputs": [
    {
     "name": "stdout",
     "output_type": "stream",
     "text": [
      "*****\n",
      "INFO: Cluster_Ensembles: CSPA: consensus clustering using CSPA.\n",
      "\n",
      "#\n",
      "INFO: Cluster_Ensembles: wgraph: writing wgraph_CSPA.\n",
      "#\n",
      "\n",
      "#\n",
      "INFO: Cluster_Ensembles: sgraph: calling gpmetis for graph partitioning.\n",
      "INFO: Cluster_Ensembles: sgraph: (hyper)-graph partitioning completed; loading wgraph_CSPA.part.4\n",
      "#\n",
      "\n",
      "INFO: Cluster_Ensembles: cluster_ensembles: CSPA at 0.5831515312692265.\n",
      "*****\n",
      "\n",
      "*****\n",
      "INFO: Cluster_Ensembles: HGPA: consensus clustering using HGPA.\n",
      "\n",
      "#\n",
      "INFO: Cluster_Ensembles: wgraph: writing wgraph_HGPA.\n",
      "INFO: Cluster_Ensembles: wgraph: 475 vertices and 20 non-zero hyper-edges.\n",
      "#\n",
      "\n",
      "#\n",
      "INFO: Cluster_Ensembles: sgraph: calling shmetis for hypergraph partitioning.\n",
      "INFO: Cluster_Ensembles: sgraph: (hyper)-graph partitioning completed; loading wgraph_HGPA.part.4\n",
      "#\n",
      "\n",
      "INFO: Cluster_Ensembles: cluster_ensembles: HGPA at 0.002582197351661111.\n",
      "*****\n",
      "\n",
      "*****\n",
      "INFO: Cluster_Ensembles: MCLA: consensus clustering using MCLA.\n",
      "INFO: Cluster_Ensembles: MCLA: preparing graph for meta-clustering.\n",
      "INFO: Cluster_Ensembles: MCLA: done filling hypergraph adjacency matrix. Starting computation of Jaccard similarity matrix.\n"
     ]
    },
    {
     "name": "stderr",
     "output_type": "stream",
     "text": [
      "/home/nazim/.local/lib/python3.6/site-packages/sklearn/metrics/cluster/supervised.py:859: FutureWarning: The behavior of NMI will change in version 0.22. To match the behavior of 'v_measure_score', NMI will use average_method='arithmetic' by default.\n",
      "  FutureWarning)\n",
      "/home/nazim/.local/lib/python3.6/site-packages/sklearn/metrics/cluster/supervised.py:859: FutureWarning: The behavior of NMI will change in version 0.22. To match the behavior of 'v_measure_score', NMI will use average_method='arithmetic' by default.\n",
      "  FutureWarning)\n",
      "/home/nazim/.local/lib/python3.6/site-packages/sklearn/metrics/cluster/supervised.py:859: FutureWarning: The behavior of NMI will change in version 0.22. To match the behavior of 'v_measure_score', NMI will use average_method='arithmetic' by default.\n",
      "  FutureWarning)\n",
      "/home/nazim/.local/lib/python3.6/site-packages/sklearn/metrics/cluster/supervised.py:859: FutureWarning: The behavior of NMI will change in version 0.22. To match the behavior of 'v_measure_score', NMI will use average_method='arithmetic' by default.\n",
      "  FutureWarning)\n",
      "/home/nazim/.local/lib/python3.6/site-packages/sklearn/metrics/cluster/supervised.py:859: FutureWarning: The behavior of NMI will change in version 0.22. To match the behavior of 'v_measure_score', NMI will use average_method='arithmetic' by default.\n",
      "  FutureWarning)\n",
      "/home/nazim/.local/lib/python3.6/site-packages/sklearn/metrics/cluster/supervised.py:859: FutureWarning: The behavior of NMI will change in version 0.22. To match the behavior of 'v_measure_score', NMI will use average_method='arithmetic' by default.\n",
      "  FutureWarning)\n",
      "/home/nazim/.local/lib/python3.6/site-packages/sklearn/metrics/cluster/supervised.py:859: FutureWarning: The behavior of NMI will change in version 0.22. To match the behavior of 'v_measure_score', NMI will use average_method='arithmetic' by default.\n",
      "  FutureWarning)\n",
      "/home/nazim/.local/lib/python3.6/site-packages/sklearn/metrics/cluster/supervised.py:859: FutureWarning: The behavior of NMI will change in version 0.22. To match the behavior of 'v_measure_score', NMI will use average_method='arithmetic' by default.\n",
      "  FutureWarning)\n",
      "/home/nazim/.local/lib/python3.6/site-packages/sklearn/metrics/cluster/supervised.py:859: FutureWarning: The behavior of NMI will change in version 0.22. To match the behavior of 'v_measure_score', NMI will use average_method='arithmetic' by default.\n",
      "  FutureWarning)\n",
      "/home/nazim/.local/lib/python3.6/site-packages/sklearn/metrics/cluster/supervised.py:859: FutureWarning: The behavior of NMI will change in version 0.22. To match the behavior of 'v_measure_score', NMI will use average_method='arithmetic' by default.\n",
      "  FutureWarning)\n"
     ]
    },
    {
     "name": "stdout",
     "output_type": "stream",
     "text": [
      "INFO: Cluster_Ensembles: MCLA: starting computation of Jaccard similarity matrix.\n",
      "INFO: Cluster_Ensembles: MCLA: done computing the matrix of pairwise Jaccard similarity scores.\n",
      "\n",
      "#\n",
      "INFO: Cluster_Ensembles: wgraph: writing wgraph_MCLA.\n",
      "#\n",
      "\n",
      "#\n",
      "INFO: Cluster_Ensembles: sgraph: calling gpmetis for graph partitioning.\n",
      "INFO: Cluster_Ensembles: sgraph: (hyper)-graph partitioning completed; loading wgraph_MCLA.part.4\n",
      "#\n",
      "INFO: Cluster_Ensembles: MCLA: delivering 4 clusters.\n",
      "INFO: Cluster_Ensembles: MCLA: average posterior probability is 0.47418017140466245\n",
      "\n",
      "INFO: Cluster_Ensembles: cluster_ensembles: MCLA at 0.8664100766888905.\n",
      "*****\n"
     ]
    },
    {
     "name": "stderr",
     "output_type": "stream",
     "text": [
      "/home/nazim/.local/lib/python3.6/site-packages/sklearn/metrics/cluster/supervised.py:859: FutureWarning: The behavior of NMI will change in version 0.22. To match the behavior of 'v_measure_score', NMI will use average_method='arithmetic' by default.\n",
      "  FutureWarning)\n",
      "/home/nazim/.local/lib/python3.6/site-packages/sklearn/metrics/cluster/supervised.py:859: FutureWarning: The behavior of NMI will change in version 0.22. To match the behavior of 'v_measure_score', NMI will use average_method='arithmetic' by default.\n",
      "  FutureWarning)\n",
      "/home/nazim/.local/lib/python3.6/site-packages/sklearn/metrics/cluster/supervised.py:859: FutureWarning: The behavior of NMI will change in version 0.22. To match the behavior of 'v_measure_score', NMI will use average_method='arithmetic' by default.\n",
      "  FutureWarning)\n",
      "/home/nazim/.local/lib/python3.6/site-packages/sklearn/metrics/cluster/supervised.py:859: FutureWarning: The behavior of NMI will change in version 0.22. To match the behavior of 'v_measure_score', NMI will use average_method='arithmetic' by default.\n",
      "  FutureWarning)\n",
      "/home/nazim/.local/lib/python3.6/site-packages/sklearn/metrics/cluster/supervised.py:859: FutureWarning: The behavior of NMI will change in version 0.22. To match the behavior of 'v_measure_score', NMI will use average_method='arithmetic' by default.\n",
      "  FutureWarning)\n"
     ]
    }
   ],
   "source": [
    "consensus_clustering_labels = CE.cluster_ensembles(d, verbose = True, N_clusters_max = 4)"
   ]
  },
  {
   "cell_type": "code",
   "execution_count": 35,
   "metadata": {},
   "outputs": [
    {
     "name": "stdout",
     "output_type": "stream",
     "text": [
      "NMI: 0.739557369042225\n",
      "ARI: 0.724057681362024\n"
     ]
    },
    {
     "name": "stderr",
     "output_type": "stream",
     "text": [
      "/home/nazim/.local/lib/python3.6/site-packages/sklearn/metrics/cluster/supervised.py:859: FutureWarning: The behavior of NMI will change in version 0.22. To match the behavior of 'v_measure_score', NMI will use average_method='arithmetic' by default.\n",
      "  FutureWarning)\n"
     ]
    }
   ],
   "source": [
    "predicted_row_labels=consensus_clustering_labels\n",
    "\n",
    "true_row_labels = matlab_dict['gnd'].flatten()\n",
    "nmi_cons = nmi(true_row_labels, predicted_row_labels)\n",
    "ari_cons= ari(true_row_labels, predicted_row_labels)\n",
    "print(\"NMI: {}\\nARI: {}\".format(nmi_cons, ari_cons))"
   ]
  },
  {
   "cell_type": "code",
   "execution_count": 13,
   "metadata": {},
   "outputs": [],
   "source": [
    "h=w=nbr_label\n",
    "\n",
    "Matrix = [[0 for x in range(w)] for y in range(h)]\n",
    "m=np.array(Matrix)"
   ]
  },
  {
   "cell_type": "code",
   "execution_count": 15,
   "metadata": {
    "scrolled": true
   },
   "outputs": [],
   "source": [
    "d=d.transpose()\n",
    "for i in range(0,nbr_label):\n",
    "    for j in range(0,nbr_label):\n",
    "        sum=0\n",
    "        for k in range(0,5):\n",
    "            if(d[i,k]==d[j,k]):\n",
    "                sum=sum+1\n",
    "        sum=sum/5\n",
    "        m[i,j]=sum\n",
    "        \n",
    "        "
   ]
  },
  {
   "cell_type": "code",
   "execution_count": 16,
   "metadata": {},
   "outputs": [
    {
     "name": "stdout",
     "output_type": "stream",
     "text": [
      "CRITERION: 1.2063447735686506\n",
      "NMI: 0.6027915081451386\n",
      "ARI: 0.5899575690118423\n"
     ]
    },
    {
     "name": "stderr",
     "output_type": "stream",
     "text": [
      "/home/nazim/.local/lib/python3.6/site-packages/sklearn/utils/validation.py:432: DeprecationWarning: 'warn_on_dtype' is deprecated in version 0.21 and will be removed in 0.23. Don't set `warn_on_dtype` to remove this warning.\n",
      "  DeprecationWarning)\n",
      "/home/nazim/.local/lib/python3.6/site-packages/sklearn/metrics/cluster/supervised.py:859: FutureWarning: The behavior of NMI will change in version 0.22. To match the behavior of 'v_measure_score', NMI will use average_method='arithmetic' by default.\n",
      "  FutureWarning)\n"
     ]
    }
   ],
   "source": [
    " \n",
    "nb_cluster=4  \n",
    "model = CoclustInfo(n_row_clusters=nb_cluster, n_col_clusters=nb_cluster,max_iter=10,\n",
    "                    n_init=5, random_state=5)\n",
    "model.fit(m)\n",
    "\n",
    "\n",
    "print(\"CRITERION: %s\" % model.criterion)\n",
    "cri=model.criterion\n",
    "true_row_labels = matlab_dict['gnd'].flatten()\n",
    "predicted_row_labels = model.row_labels_\n",
    "nmi= nmi(true_row_labels, predicted_row_labels)\n",
    "ari= ari(true_row_labels, predicted_row_labels)\n",
    "print(\"NMI: {}\\nARI: {}\".format(nmi, ari))"
   ]
  },
  {
   "cell_type": "code",
   "execution_count": 8,
   "metadata": {},
   "outputs": [],
   "source": [
    "d= np.loadtxt(\"d.txt\", dtype=int)"
   ]
  },
  {
   "cell_type": "code",
   "execution_count": 9,
   "metadata": {},
   "outputs": [],
   "source": [
    "liste = np.empty((6, 4)).tolist()"
   ]
  },
  {
   "cell_type": "code",
   "execution_count": 10,
   "metadata": {},
   "outputs": [],
   "source": [
    "#d=d.transpose()\n",
    "for i in range(0,5):\n",
    "    liste[i]=d[i]"
   ]
  },
  {
   "cell_type": "code",
   "execution_count": 11,
   "metadata": {},
   "outputs": [
    {
     "name": "stderr",
     "output_type": "stream",
     "text": [
      "/home/nazim/.local/lib/python3.6/site-packages/sklearn/externals/joblib/__init__.py:15: DeprecationWarning: sklearn.externals.joblib is deprecated in 0.21 and will be removed in 0.23. Please import this functionality directly from joblib, which can be installed with: pip install joblib. If this warning is raised when loading pickled models, you may need to re-serialize those models with scikit-learn 0.21+.\n",
      "  warnings.warn(msg, category=DeprecationWarning)\n"
     ]
    },
    {
     "data": {
      "text/plain": [
       "SphericalKMeans(copy_x=True, init='k-means++', max_iter=300, n_clusters=4,\n",
       "                n_init=10, n_jobs=1, normalize=True, random_state=None,\n",
       "                tol=0.0001, verbose=0)"
      ]
     },
     "execution_count": 11,
     "metadata": {},
     "output_type": "execute_result"
    }
   ],
   "source": [
    "from spherecluster import SphericalKMeans\n",
    "X=matlab_dict_norm['dtm']\n",
    "skm = SphericalKMeans(n_clusters=4)\n",
    "skm.fit(X)"
   ]
  },
  {
   "cell_type": "code",
   "execution_count": 12,
   "metadata": {},
   "outputs": [],
   "source": [
    "liste[5]=skm.labels_\n",
    "liste=np.array(liste)"
   ]
  },
  {
   "cell_type": "code",
   "execution_count": 15,
   "metadata": {},
   "outputs": [
    {
     "name": "stdout",
     "output_type": "stream",
     "text": [
      "*****\n",
      "INFO: Cluster_Ensembles: CSPA: consensus clustering using CSPA.\n",
      "\n",
      "#\n",
      "INFO: Cluster_Ensembles: wgraph: writing wgraph_CSPA.\n",
      "#\n",
      "\n",
      "#\n",
      "INFO: Cluster_Ensembles: sgraph: calling gpmetis for graph partitioning.\n",
      "INFO: Cluster_Ensembles: sgraph: (hyper)-graph partitioning completed; loading wgraph_CSPA.part.4\n",
      "#\n"
     ]
    },
    {
     "name": "stderr",
     "output_type": "stream",
     "text": [
      "/home/nazim/.local/lib/python3.6/site-packages/sklearn/metrics/cluster/supervised.py:859: FutureWarning: The behavior of NMI will change in version 0.22. To match the behavior of 'v_measure_score', NMI will use average_method='arithmetic' by default.\n",
      "  FutureWarning)\n",
      "/home/nazim/.local/lib/python3.6/site-packages/sklearn/metrics/cluster/supervised.py:859: FutureWarning: The behavior of NMI will change in version 0.22. To match the behavior of 'v_measure_score', NMI will use average_method='arithmetic' by default.\n",
      "  FutureWarning)\n",
      "/home/nazim/.local/lib/python3.6/site-packages/sklearn/metrics/cluster/supervised.py:859: FutureWarning: The behavior of NMI will change in version 0.22. To match the behavior of 'v_measure_score', NMI will use average_method='arithmetic' by default.\n",
      "  FutureWarning)\n",
      "/home/nazim/.local/lib/python3.6/site-packages/sklearn/metrics/cluster/supervised.py:859: FutureWarning: The behavior of NMI will change in version 0.22. To match the behavior of 'v_measure_score', NMI will use average_method='arithmetic' by default.\n",
      "  FutureWarning)\n",
      "/home/nazim/.local/lib/python3.6/site-packages/sklearn/metrics/cluster/supervised.py:859: FutureWarning: The behavior of NMI will change in version 0.22. To match the behavior of 'v_measure_score', NMI will use average_method='arithmetic' by default.\n",
      "  FutureWarning)\n",
      "/home/nazim/.local/lib/python3.6/site-packages/sklearn/metrics/cluster/supervised.py:859: FutureWarning: The behavior of NMI will change in version 0.22. To match the behavior of 'v_measure_score', NMI will use average_method='arithmetic' by default.\n",
      "  FutureWarning)\n",
      "/home/nazim/.local/lib/python3.6/site-packages/sklearn/metrics/cluster/supervised.py:859: FutureWarning: The behavior of NMI will change in version 0.22. To match the behavior of 'v_measure_score', NMI will use average_method='arithmetic' by default.\n",
      "  FutureWarning)\n",
      "/home/nazim/.local/lib/python3.6/site-packages/sklearn/metrics/cluster/supervised.py:859: FutureWarning: The behavior of NMI will change in version 0.22. To match the behavior of 'v_measure_score', NMI will use average_method='arithmetic' by default.\n",
      "  FutureWarning)\n",
      "/home/nazim/.local/lib/python3.6/site-packages/sklearn/metrics/cluster/supervised.py:859: FutureWarning: The behavior of NMI will change in version 0.22. To match the behavior of 'v_measure_score', NMI will use average_method='arithmetic' by default.\n",
      "  FutureWarning)\n",
      "/home/nazim/.local/lib/python3.6/site-packages/sklearn/metrics/cluster/supervised.py:859: FutureWarning: The behavior of NMI will change in version 0.22. To match the behavior of 'v_measure_score', NMI will use average_method='arithmetic' by default.\n",
      "  FutureWarning)\n",
      "/home/nazim/.local/lib/python3.6/site-packages/sklearn/metrics/cluster/supervised.py:859: FutureWarning: The behavior of NMI will change in version 0.22. To match the behavior of 'v_measure_score', NMI will use average_method='arithmetic' by default.\n",
      "  FutureWarning)\n",
      "/home/nazim/.local/lib/python3.6/site-packages/sklearn/metrics/cluster/supervised.py:859: FutureWarning: The behavior of NMI will change in version 0.22. To match the behavior of 'v_measure_score', NMI will use average_method='arithmetic' by default.\n",
      "  FutureWarning)\n"
     ]
    },
    {
     "name": "stdout",
     "output_type": "stream",
     "text": [
      "\n",
      "INFO: Cluster_Ensembles: cluster_ensembles: CSPA at 0.5786051015341043.\n",
      "*****\n",
      "\n",
      "*****\n",
      "INFO: Cluster_Ensembles: HGPA: consensus clustering using HGPA.\n",
      "\n",
      "#\n",
      "INFO: Cluster_Ensembles: wgraph: writing wgraph_HGPA.\n",
      "INFO: Cluster_Ensembles: wgraph: 475 vertices and 24 non-zero hyper-edges.\n",
      "#\n",
      "\n",
      "#\n",
      "INFO: Cluster_Ensembles: sgraph: calling shmetis for hypergraph partitioning.\n",
      "INFO: Cluster_Ensembles: sgraph: (hyper)-graph partitioning completed; loading wgraph_HGPA.part.4\n",
      "#\n",
      "\n",
      "INFO: Cluster_Ensembles: cluster_ensembles: HGPA at 0.0018241194925129533.\n",
      "*****\n",
      "\n",
      "*****\n",
      "INFO: Cluster_Ensembles: MCLA: consensus clustering using MCLA.\n",
      "INFO: Cluster_Ensembles: MCLA: preparing graph for meta-clustering.\n",
      "INFO: Cluster_Ensembles: MCLA: done filling hypergraph adjacency matrix. Starting computation of Jaccard similarity matrix.\n",
      "INFO: Cluster_Ensembles: MCLA: starting computation of Jaccard similarity matrix.\n",
      "INFO: Cluster_Ensembles: MCLA: done computing the matrix of pairwise Jaccard similarity scores.\n",
      "\n",
      "#\n",
      "INFO: Cluster_Ensembles: wgraph: writing wgraph_MCLA.\n",
      "#\n",
      "\n",
      "#\n",
      "INFO: Cluster_Ensembles: sgraph: calling gpmetis for graph partitioning.\n",
      "INFO: Cluster_Ensembles: sgraph: (hyper)-graph partitioning completed; loading wgraph_MCLA.part.4\n",
      "#\n",
      "INFO: Cluster_Ensembles: MCLA: delivering 4 clusters.\n",
      "INFO: Cluster_Ensembles: MCLA: average posterior probability is 0.5125020073191453\n",
      "\n",
      "INFO: Cluster_Ensembles: cluster_ensembles: MCLA at 0.8504588974219197.\n",
      "*****\n"
     ]
    },
    {
     "name": "stderr",
     "output_type": "stream",
     "text": [
      "/home/nazim/.local/lib/python3.6/site-packages/sklearn/metrics/cluster/supervised.py:859: FutureWarning: The behavior of NMI will change in version 0.22. To match the behavior of 'v_measure_score', NMI will use average_method='arithmetic' by default.\n",
      "  FutureWarning)\n",
      "/home/nazim/.local/lib/python3.6/site-packages/sklearn/metrics/cluster/supervised.py:859: FutureWarning: The behavior of NMI will change in version 0.22. To match the behavior of 'v_measure_score', NMI will use average_method='arithmetic' by default.\n",
      "  FutureWarning)\n",
      "/home/nazim/.local/lib/python3.6/site-packages/sklearn/metrics/cluster/supervised.py:859: FutureWarning: The behavior of NMI will change in version 0.22. To match the behavior of 'v_measure_score', NMI will use average_method='arithmetic' by default.\n",
      "  FutureWarning)\n",
      "/home/nazim/.local/lib/python3.6/site-packages/sklearn/metrics/cluster/supervised.py:859: FutureWarning: The behavior of NMI will change in version 0.22. To match the behavior of 'v_measure_score', NMI will use average_method='arithmetic' by default.\n",
      "  FutureWarning)\n",
      "/home/nazim/.local/lib/python3.6/site-packages/sklearn/metrics/cluster/supervised.py:859: FutureWarning: The behavior of NMI will change in version 0.22. To match the behavior of 'v_measure_score', NMI will use average_method='arithmetic' by default.\n",
      "  FutureWarning)\n",
      "/home/nazim/.local/lib/python3.6/site-packages/sklearn/metrics/cluster/supervised.py:859: FutureWarning: The behavior of NMI will change in version 0.22. To match the behavior of 'v_measure_score', NMI will use average_method='arithmetic' by default.\n",
      "  FutureWarning)\n"
     ]
    }
   ],
   "source": [
    "import Cluster_Ensembles as CE\n",
    "consensus_clustering_labels = CE.cluster_ensembles(liste, verbose = True, N_clusters_max = 4)"
   ]
  },
  {
   "cell_type": "code",
   "execution_count": 16,
   "metadata": {},
   "outputs": [
    {
     "name": "stdout",
     "output_type": "stream",
     "text": [
      "NMI: 0.7318957545670656\n",
      "ARI: 0.7161512394949037\n"
     ]
    },
    {
     "name": "stderr",
     "output_type": "stream",
     "text": [
      "/home/nazim/.local/lib/python3.6/site-packages/sklearn/metrics/cluster/supervised.py:859: FutureWarning: The behavior of NMI will change in version 0.22. To match the behavior of 'v_measure_score', NMI will use average_method='arithmetic' by default.\n",
      "  FutureWarning)\n"
     ]
    }
   ],
   "source": [
    "predicted_row_labels=consensus_clustering_labels\n",
    "\n",
    "true_row_labels = matlab_dict['gnd'].flatten()\n",
    "nmi_cons = nmi(true_row_labels, predicted_row_labels)\n",
    "ari_cons= ari(true_row_labels, predicted_row_labels)\n",
    "print(\"NMI: {}\\nARI: {}\".format(nmi_cons, ari_cons))"
   ]
  },
  {
   "cell_type": "code",
   "execution_count": null,
   "metadata": {},
   "outputs": [],
   "source": []
  }
 ],
 "metadata": {
  "kernelspec": {
   "display_name": "Python 3",
   "language": "python",
   "name": "python3"
  },
  "language_info": {
   "codemirror_mode": {
    "name": "ipython",
    "version": 3
   },
   "file_extension": ".py",
   "mimetype": "text/x-python",
   "name": "python",
   "nbconvert_exporter": "python",
   "pygments_lexer": "ipython3",
   "version": "3.6.8"
  }
 },
 "nbformat": 4,
 "nbformat_minor": 2
}
