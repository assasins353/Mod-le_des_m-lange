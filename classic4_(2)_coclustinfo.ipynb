{
 "cells": [
  {
   "cell_type": "code",
   "execution_count": 1,
   "metadata": {},
   "outputs": [],
   "source": [
    "import numpy as np"
   ]
  },
  {
   "cell_type": "code",
   "execution_count": 2,
   "metadata": {},
   "outputs": [
    {
     "name": "stderr",
     "output_type": "stream",
     "text": [
      "/home/nazim/.local/lib/python3.6/site-packages/sklearn/utils/linear_assignment_.py:21: DeprecationWarning: The linear_assignment_ module is deprecated in 0.21 and will be removed from 0.23. Use scipy.optimize.linear_sum_assignment instead.\n",
      "  DeprecationWarning)\n"
     ]
    }
   ],
   "source": [
    "from coclust.coclustering import CoclustSpecMod\n",
    "\n",
    "import scipy.io as io\n",
    "from sklearn.metrics import (adjusted_rand_score as ari,\n",
    "                             normalized_mutual_info_score as nmi)\n",
    "from coclust.coclustering import CoclustInfo\n",
    "from coclust.evaluation.external import accuracy"
   ]
  },
  {
   "cell_type": "code",
   "execution_count": 3,
   "metadata": {},
   "outputs": [],
   "source": [
    "file_name=\"/home/nazim/m2/mod_mel/Archive(1)/classic4_ti_n.mat\"\n",
    "file_name1=\"/home/nazim/m2/mod_mel/Archive/classic4.mat\"\n",
    "matlab_dict_norm = io.loadmat(file_name)\n",
    "matlab_dict = io.loadmat(file_name1)\n",
    "nbr_label=matlab_dict['labels'].shape[1]"
   ]
  },
  {
   "cell_type": "code",
   "execution_count": 5,
   "metadata": {},
   "outputs": [
    {
     "data": {
      "text/plain": [
       "array([[0, 0, 0, ..., 3, 3, 3]])"
      ]
     },
     "execution_count": 5,
     "metadata": {},
     "output_type": "execute_result"
    }
   ],
   "source": [
    "matlab_dict['labels']"
   ]
  },
  {
   "cell_type": "code",
   "execution_count": 4,
   "metadata": {},
   "outputs": [
    {
     "name": "stderr",
     "output_type": "stream",
     "text": [
      "/home/nazim/.local/lib/python3.6/site-packages/sklearn/utils/validation.py:432: DeprecationWarning: 'warn_on_dtype' is deprecated in version 0.21 and will be removed in 0.23. Don't set `warn_on_dtype` to remove this warning.\n",
      "  DeprecationWarning)\n"
     ]
    },
    {
     "name": "stdout",
     "output_type": "stream",
     "text": [
      "model numero 0\n",
      "CRITERION: 0.3087726756480609\n",
      "NMI: 0.3212572178289327\n",
      "ARI: 0.24553515655221933\n"
     ]
    },
    {
     "name": "stderr",
     "output_type": "stream",
     "text": [
      "/home/nazim/.local/lib/python3.6/site-packages/sklearn/metrics/cluster/supervised.py:859: FutureWarning: The behavior of NMI will change in version 0.22. To match the behavior of 'v_measure_score', NMI will use average_method='arithmetic' by default.\n",
      "  FutureWarning)\n",
      "/home/nazim/.local/lib/python3.6/site-packages/sklearn/utils/validation.py:432: DeprecationWarning: 'warn_on_dtype' is deprecated in version 0.21 and will be removed in 0.23. Don't set `warn_on_dtype` to remove this warning.\n",
      "  DeprecationWarning)\n"
     ]
    },
    {
     "name": "stdout",
     "output_type": "stream",
     "text": [
      "model numero 1\n",
      "CRITERION: 0.43285037858356523\n",
      "NMI: 0.507458220685378\n",
      "ARI: 0.38273333001097765\n"
     ]
    },
    {
     "name": "stderr",
     "output_type": "stream",
     "text": [
      "/home/nazim/.local/lib/python3.6/site-packages/sklearn/metrics/cluster/supervised.py:859: FutureWarning: The behavior of NMI will change in version 0.22. To match the behavior of 'v_measure_score', NMI will use average_method='arithmetic' by default.\n",
      "  FutureWarning)\n",
      "/home/nazim/.local/lib/python3.6/site-packages/sklearn/utils/validation.py:432: DeprecationWarning: 'warn_on_dtype' is deprecated in version 0.21 and will be removed in 0.23. Don't set `warn_on_dtype` to remove this warning.\n",
      "  DeprecationWarning)\n"
     ]
    },
    {
     "name": "stdout",
     "output_type": "stream",
     "text": [
      "model numero 2\n",
      "CRITERION: 0.43333393546970406\n",
      "NMI: 0.5730863400604752\n",
      "ARI: 0.5558243500183925\n"
     ]
    },
    {
     "name": "stderr",
     "output_type": "stream",
     "text": [
      "/home/nazim/.local/lib/python3.6/site-packages/sklearn/metrics/cluster/supervised.py:859: FutureWarning: The behavior of NMI will change in version 0.22. To match the behavior of 'v_measure_score', NMI will use average_method='arithmetic' by default.\n",
      "  FutureWarning)\n",
      "/home/nazim/.local/lib/python3.6/site-packages/sklearn/utils/validation.py:432: DeprecationWarning: 'warn_on_dtype' is deprecated in version 0.21 and will be removed in 0.23. Don't set `warn_on_dtype` to remove this warning.\n",
      "  DeprecationWarning)\n"
     ]
    },
    {
     "name": "stdout",
     "output_type": "stream",
     "text": [
      "model numero 3\n",
      "CRITERION: 0.49527410480166506\n",
      "NMI: 0.6454010626029699\n",
      "ARI: 0.5695935782474612\n"
     ]
    },
    {
     "name": "stderr",
     "output_type": "stream",
     "text": [
      "/home/nazim/.local/lib/python3.6/site-packages/sklearn/metrics/cluster/supervised.py:859: FutureWarning: The behavior of NMI will change in version 0.22. To match the behavior of 'v_measure_score', NMI will use average_method='arithmetic' by default.\n",
      "  FutureWarning)\n",
      "/home/nazim/.local/lib/python3.6/site-packages/sklearn/utils/validation.py:432: DeprecationWarning: 'warn_on_dtype' is deprecated in version 0.21 and will be removed in 0.23. Don't set `warn_on_dtype` to remove this warning.\n",
      "  DeprecationWarning)\n"
     ]
    },
    {
     "name": "stdout",
     "output_type": "stream",
     "text": [
      "model numero 4\n",
      "CRITERION: 0.5004435807286994\n",
      "NMI: 0.6887027204662082\n",
      "ARI: 0.6434055909007255\n"
     ]
    },
    {
     "name": "stderr",
     "output_type": "stream",
     "text": [
      "/home/nazim/.local/lib/python3.6/site-packages/sklearn/metrics/cluster/supervised.py:859: FutureWarning: The behavior of NMI will change in version 0.22. To match the behavior of 'v_measure_score', NMI will use average_method='arithmetic' by default.\n",
      "  FutureWarning)\n",
      "/home/nazim/.local/lib/python3.6/site-packages/sklearn/utils/validation.py:432: DeprecationWarning: 'warn_on_dtype' is deprecated in version 0.21 and will be removed in 0.23. Don't set `warn_on_dtype` to remove this warning.\n",
      "  DeprecationWarning)\n"
     ]
    },
    {
     "name": "stdout",
     "output_type": "stream",
     "text": [
      "model numero 5\n",
      "CRITERION: 0.5071689343289771\n",
      "NMI: 0.6981284016351964\n",
      "ARI: 0.664886185573922\n"
     ]
    },
    {
     "name": "stderr",
     "output_type": "stream",
     "text": [
      "/home/nazim/.local/lib/python3.6/site-packages/sklearn/metrics/cluster/supervised.py:859: FutureWarning: The behavior of NMI will change in version 0.22. To match the behavior of 'v_measure_score', NMI will use average_method='arithmetic' by default.\n",
      "  FutureWarning)\n",
      "/home/nazim/.local/lib/python3.6/site-packages/sklearn/utils/validation.py:432: DeprecationWarning: 'warn_on_dtype' is deprecated in version 0.21 and will be removed in 0.23. Don't set `warn_on_dtype` to remove this warning.\n",
      "  DeprecationWarning)\n"
     ]
    },
    {
     "name": "stdout",
     "output_type": "stream",
     "text": [
      "model numero 6\n",
      "CRITERION: 0.5068292707101505\n",
      "NMI: 0.656818302408687\n",
      "ARI: 0.5936876441445953\n"
     ]
    },
    {
     "name": "stderr",
     "output_type": "stream",
     "text": [
      "/home/nazim/.local/lib/python3.6/site-packages/sklearn/metrics/cluster/supervised.py:859: FutureWarning: The behavior of NMI will change in version 0.22. To match the behavior of 'v_measure_score', NMI will use average_method='arithmetic' by default.\n",
      "  FutureWarning)\n",
      "/home/nazim/.local/lib/python3.6/site-packages/sklearn/utils/validation.py:432: DeprecationWarning: 'warn_on_dtype' is deprecated in version 0.21 and will be removed in 0.23. Don't set `warn_on_dtype` to remove this warning.\n",
      "  DeprecationWarning)\n"
     ]
    },
    {
     "name": "stdout",
     "output_type": "stream",
     "text": [
      "model numero 7\n",
      "CRITERION: 0.5184977277071245\n",
      "NMI: 0.7085568480299435\n",
      "ARI: 0.6194477869574944\n"
     ]
    },
    {
     "name": "stderr",
     "output_type": "stream",
     "text": [
      "/home/nazim/.local/lib/python3.6/site-packages/sklearn/metrics/cluster/supervised.py:859: FutureWarning: The behavior of NMI will change in version 0.22. To match the behavior of 'v_measure_score', NMI will use average_method='arithmetic' by default.\n",
      "  FutureWarning)\n",
      "/home/nazim/.local/lib/python3.6/site-packages/sklearn/utils/validation.py:432: DeprecationWarning: 'warn_on_dtype' is deprecated in version 0.21 and will be removed in 0.23. Don't set `warn_on_dtype` to remove this warning.\n",
      "  DeprecationWarning)\n"
     ]
    },
    {
     "name": "stdout",
     "output_type": "stream",
     "text": [
      "model numero 8\n",
      "CRITERION: 0.5175619430194931\n",
      "NMI: 0.6884914511649374\n",
      "ARI: 0.5469233978827825\n"
     ]
    },
    {
     "name": "stderr",
     "output_type": "stream",
     "text": [
      "/home/nazim/.local/lib/python3.6/site-packages/sklearn/metrics/cluster/supervised.py:859: FutureWarning: The behavior of NMI will change in version 0.22. To match the behavior of 'v_measure_score', NMI will use average_method='arithmetic' by default.\n",
      "  FutureWarning)\n",
      "/home/nazim/.local/lib/python3.6/site-packages/sklearn/utils/validation.py:432: DeprecationWarning: 'warn_on_dtype' is deprecated in version 0.21 and will be removed in 0.23. Don't set `warn_on_dtype` to remove this warning.\n",
      "  DeprecationWarning)\n"
     ]
    },
    {
     "name": "stdout",
     "output_type": "stream",
     "text": [
      "model numero 9\n",
      "CRITERION: 0.5142260930820435\n",
      "NMI: 0.6924752350060767\n",
      "ARI: 0.578326471158643\n"
     ]
    },
    {
     "name": "stderr",
     "output_type": "stream",
     "text": [
      "/home/nazim/.local/lib/python3.6/site-packages/sklearn/metrics/cluster/supervised.py:859: FutureWarning: The behavior of NMI will change in version 0.22. To match the behavior of 'v_measure_score', NMI will use average_method='arithmetic' by default.\n",
      "  FutureWarning)\n",
      "/home/nazim/.local/lib/python3.6/site-packages/sklearn/utils/validation.py:432: DeprecationWarning: 'warn_on_dtype' is deprecated in version 0.21 and will be removed in 0.23. Don't set `warn_on_dtype` to remove this warning.\n",
      "  DeprecationWarning)\n"
     ]
    },
    {
     "name": "stdout",
     "output_type": "stream",
     "text": [
      "model numero 10\n",
      "CRITERION: 0.5145698567641099\n",
      "NMI: 0.7164548715575532\n",
      "ARI: 0.6772628521207562\n"
     ]
    },
    {
     "name": "stderr",
     "output_type": "stream",
     "text": [
      "/home/nazim/.local/lib/python3.6/site-packages/sklearn/metrics/cluster/supervised.py:859: FutureWarning: The behavior of NMI will change in version 0.22. To match the behavior of 'v_measure_score', NMI will use average_method='arithmetic' by default.\n",
      "  FutureWarning)\n",
      "/home/nazim/.local/lib/python3.6/site-packages/sklearn/utils/validation.py:432: DeprecationWarning: 'warn_on_dtype' is deprecated in version 0.21 and will be removed in 0.23. Don't set `warn_on_dtype` to remove this warning.\n",
      "  DeprecationWarning)\n"
     ]
    },
    {
     "name": "stdout",
     "output_type": "stream",
     "text": [
      "model numero 11\n",
      "CRITERION: 0.5217659306780607\n",
      "NMI: 0.7104609298216609\n",
      "ARI: 0.5786990001584291\n"
     ]
    },
    {
     "name": "stderr",
     "output_type": "stream",
     "text": [
      "/home/nazim/.local/lib/python3.6/site-packages/sklearn/metrics/cluster/supervised.py:859: FutureWarning: The behavior of NMI will change in version 0.22. To match the behavior of 'v_measure_score', NMI will use average_method='arithmetic' by default.\n",
      "  FutureWarning)\n",
      "/home/nazim/.local/lib/python3.6/site-packages/sklearn/utils/validation.py:432: DeprecationWarning: 'warn_on_dtype' is deprecated in version 0.21 and will be removed in 0.23. Don't set `warn_on_dtype` to remove this warning.\n",
      "  DeprecationWarning)\n"
     ]
    },
    {
     "name": "stdout",
     "output_type": "stream",
     "text": [
      "model numero 12\n",
      "CRITERION: 0.5178731033362849\n",
      "NMI: 0.7013133939037772\n",
      "ARI: 0.6355067395183369\n"
     ]
    },
    {
     "name": "stderr",
     "output_type": "stream",
     "text": [
      "/home/nazim/.local/lib/python3.6/site-packages/sklearn/metrics/cluster/supervised.py:859: FutureWarning: The behavior of NMI will change in version 0.22. To match the behavior of 'v_measure_score', NMI will use average_method='arithmetic' by default.\n",
      "  FutureWarning)\n",
      "/home/nazim/.local/lib/python3.6/site-packages/sklearn/utils/validation.py:432: DeprecationWarning: 'warn_on_dtype' is deprecated in version 0.21 and will be removed in 0.23. Don't set `warn_on_dtype` to remove this warning.\n",
      "  DeprecationWarning)\n"
     ]
    },
    {
     "name": "stdout",
     "output_type": "stream",
     "text": [
      "model numero 13\n",
      "CRITERION: 0.5199341026015218\n",
      "NMI: 0.746125291832941\n",
      "ARI: 0.7240996188948723\n"
     ]
    },
    {
     "name": "stderr",
     "output_type": "stream",
     "text": [
      "/home/nazim/.local/lib/python3.6/site-packages/sklearn/metrics/cluster/supervised.py:859: FutureWarning: The behavior of NMI will change in version 0.22. To match the behavior of 'v_measure_score', NMI will use average_method='arithmetic' by default.\n",
      "  FutureWarning)\n",
      "/home/nazim/.local/lib/python3.6/site-packages/sklearn/utils/validation.py:432: DeprecationWarning: 'warn_on_dtype' is deprecated in version 0.21 and will be removed in 0.23. Don't set `warn_on_dtype` to remove this warning.\n",
      "  DeprecationWarning)\n"
     ]
    },
    {
     "name": "stdout",
     "output_type": "stream",
     "text": [
      "model numero 14\n",
      "CRITERION: 0.5210334283737103\n",
      "NMI: 0.7250204753620674\n",
      "ARI: 0.6939370487625479\n"
     ]
    },
    {
     "name": "stderr",
     "output_type": "stream",
     "text": [
      "/home/nazim/.local/lib/python3.6/site-packages/sklearn/metrics/cluster/supervised.py:859: FutureWarning: The behavior of NMI will change in version 0.22. To match the behavior of 'v_measure_score', NMI will use average_method='arithmetic' by default.\n",
      "  FutureWarning)\n",
      "/home/nazim/.local/lib/python3.6/site-packages/sklearn/utils/validation.py:432: DeprecationWarning: 'warn_on_dtype' is deprecated in version 0.21 and will be removed in 0.23. Don't set `warn_on_dtype` to remove this warning.\n",
      "  DeprecationWarning)\n"
     ]
    },
    {
     "name": "stdout",
     "output_type": "stream",
     "text": [
      "model numero 15\n",
      "CRITERION: 0.5197643693880806\n",
      "NMI: 0.7250334699074777\n",
      "ARI: 0.6762159059691631\n"
     ]
    },
    {
     "name": "stderr",
     "output_type": "stream",
     "text": [
      "/home/nazim/.local/lib/python3.6/site-packages/sklearn/metrics/cluster/supervised.py:859: FutureWarning: The behavior of NMI will change in version 0.22. To match the behavior of 'v_measure_score', NMI will use average_method='arithmetic' by default.\n",
      "  FutureWarning)\n",
      "/home/nazim/.local/lib/python3.6/site-packages/sklearn/utils/validation.py:432: DeprecationWarning: 'warn_on_dtype' is deprecated in version 0.21 and will be removed in 0.23. Don't set `warn_on_dtype` to remove this warning.\n",
      "  DeprecationWarning)\n"
     ]
    },
    {
     "name": "stdout",
     "output_type": "stream",
     "text": [
      "model numero 16\n",
      "CRITERION: 0.5234968920872529\n",
      "NMI: 0.750982516942915\n",
      "ARI: 0.7229075441379533\n"
     ]
    },
    {
     "name": "stderr",
     "output_type": "stream",
     "text": [
      "/home/nazim/.local/lib/python3.6/site-packages/sklearn/metrics/cluster/supervised.py:859: FutureWarning: The behavior of NMI will change in version 0.22. To match the behavior of 'v_measure_score', NMI will use average_method='arithmetic' by default.\n",
      "  FutureWarning)\n",
      "/home/nazim/.local/lib/python3.6/site-packages/sklearn/utils/validation.py:432: DeprecationWarning: 'warn_on_dtype' is deprecated in version 0.21 and will be removed in 0.23. Don't set `warn_on_dtype` to remove this warning.\n",
      "  DeprecationWarning)\n"
     ]
    },
    {
     "name": "stdout",
     "output_type": "stream",
     "text": [
      "model numero 17\n",
      "CRITERION: 0.5212609328845388\n",
      "NMI: 0.7290871546765407\n",
      "ARI: 0.6711168625865724\n"
     ]
    },
    {
     "name": "stderr",
     "output_type": "stream",
     "text": [
      "/home/nazim/.local/lib/python3.6/site-packages/sklearn/metrics/cluster/supervised.py:859: FutureWarning: The behavior of NMI will change in version 0.22. To match the behavior of 'v_measure_score', NMI will use average_method='arithmetic' by default.\n",
      "  FutureWarning)\n",
      "/home/nazim/.local/lib/python3.6/site-packages/sklearn/utils/validation.py:432: DeprecationWarning: 'warn_on_dtype' is deprecated in version 0.21 and will be removed in 0.23. Don't set `warn_on_dtype` to remove this warning.\n",
      "  DeprecationWarning)\n"
     ]
    },
    {
     "name": "stdout",
     "output_type": "stream",
     "text": [
      "model numero 18\n",
      "CRITERION: 0.5212541021238712\n",
      "NMI: 0.7263523977064263\n",
      "ARI: 0.6749462036683345\n"
     ]
    },
    {
     "name": "stderr",
     "output_type": "stream",
     "text": [
      "/home/nazim/.local/lib/python3.6/site-packages/sklearn/metrics/cluster/supervised.py:859: FutureWarning: The behavior of NMI will change in version 0.22. To match the behavior of 'v_measure_score', NMI will use average_method='arithmetic' by default.\n",
      "  FutureWarning)\n",
      "/home/nazim/.local/lib/python3.6/site-packages/sklearn/utils/validation.py:432: DeprecationWarning: 'warn_on_dtype' is deprecated in version 0.21 and will be removed in 0.23. Don't set `warn_on_dtype` to remove this warning.\n",
      "  DeprecationWarning)\n"
     ]
    },
    {
     "name": "stdout",
     "output_type": "stream",
     "text": [
      "model numero 19\n",
      "CRITERION: 0.5204907555726697\n",
      "NMI: 0.7278333669622147\n",
      "ARI: 0.6781931586185456\n"
     ]
    },
    {
     "name": "stderr",
     "output_type": "stream",
     "text": [
      "/home/nazim/.local/lib/python3.6/site-packages/sklearn/metrics/cluster/supervised.py:859: FutureWarning: The behavior of NMI will change in version 0.22. To match the behavior of 'v_measure_score', NMI will use average_method='arithmetic' by default.\n",
      "  FutureWarning)\n"
     ]
    }
   ],
   "source": [
    "nmi_ = [0 for i in range(20)]\n",
    "ari_ = [0 for i in range(20)]\n",
    "cri= [0 for i in range(20)]\n",
    "max_iter=3\n",
    "n_init=3\n",
    "random_state=5\n",
    "X=matlab_dict_norm['dtm']\n",
    "nb_clusters=4\n",
    "for i in range(0,20):\n",
    "    \n",
    "    num_model=i\n",
    "    model = CoclustInfo(n_row_clusters=nb_clusters, n_col_clusters=nb_clusters*2,max_iter=max_iter,\n",
    "                    n_init=n_init, random_state=random_state)\n",
    "    model.fit(X)\n",
    "\n",
    "    print(\"model numero\",num_model)\n",
    "    print(\"CRITERION: %s\" % model.criterion)\n",
    "    cri[i]=model.criterion\n",
    "    true_row_labels = matlab_dict['labels'].flatten()\n",
    "    predicted_row_labels = model.row_labels_\n",
    "    nmi_[i] = nmi(true_row_labels, predicted_row_labels)\n",
    "    ari_[i]= ari(true_row_labels, predicted_row_labels)\n",
    "    print(\"NMI: {}\\nARI: {}\".format(nmi_[i], ari_[i]))\n",
    "    max_iter=max_iter+1\n",
    "    n_init=n_init+2\n",
    "    random_state=random_state+5\n",
    "    with open('classic4_(2)/%d.txt'%i, 'w') as f:\n",
    "        for item in predicted_row_labels:\n",
    "            f.write(\"%s\\n\" % item)"
   ]
  },
  {
   "cell_type": "code",
   "execution_count": 6,
   "metadata": {},
   "outputs": [
    {
     "name": "stdout",
     "output_type": "stream",
     "text": [
      "[0, 1, 2, 3, 6, 8, 4, 9, 5, 12, 7, 11, 10, 14, 15, 18, 19, 17, 13, 16]\n",
      "0.7263523977064263\n",
      "0.750982516942915\n",
      "[0, 1, 8, 2, 3, 9, 11, 6, 7, 12, 4, 5, 17, 18, 15, 10, 19, 14, 16, 13]\n",
      "0.6772628521207562\n",
      "0.7240996188948723\n",
      "[0, 1, 2, 3, 4, 6, 5, 9, 10, 8, 12, 7, 15, 13, 19, 14, 18, 17, 11, 16]\n",
      "0.5210334283737103\n",
      "0.5234968920872529\n"
     ]
    }
   ],
   "source": [
    "nmi_sort=sorted(range(len(nmi_)), key=lambda k: nmi_[k])\n",
    "print(nmi_sort)\n",
    "print(nmi_[nmi_sort[15]])\n",
    "print(nmi_[nmi_sort[19]])\n",
    "ari_sort=sorted(range(len(ari_)), key=lambda k: ari_[k])\n",
    "print(ari_sort)\n",
    "print(ari_[ari_sort[15]])\n",
    "print(ari_[ari_sort[19]])\n",
    "cri_sort=sorted(range(len(cri)), key=lambda k: cri[k])\n",
    "print(cri_sort)\n",
    "print(cri[cri_sort[15]])\n",
    "print(cri[cri_sort[19]])"
   ]
  },
  {
   "cell_type": "code",
   "execution_count": 7,
   "metadata": {},
   "outputs": [],
   "source": [
    "#16 14 11 17 18\n",
    "d = np.empty((5, nbr_label)).tolist()\n",
    "vec=[16, 11, 14, 17, 18]\n",
    "for i in range(0,5):\n",
    "    text_file = open('classic4_(2)/%d.txt'%vec[i], \"r\")\n",
    "    lines = text_file.read().split('\\n')\n",
    "    lines=lines[0:nbr_label]\n",
    "    lines = list(map(int, lines))\n",
    "    d[i]=lines\n",
    "d=np.array(d)\n",
    "for i in range(0,5):\n",
    "    d[i]=np.array(d[i])\n",
    "np.savetxt('classic4_(2)/d.txt', d, fmt='%d')"
   ]
  },
  {
   "cell_type": "code",
   "execution_count": 8,
   "metadata": {},
   "outputs": [
    {
     "name": "stdout",
     "output_type": "stream",
     "text": [
      "*****\n",
      "INFO: Cluster_Ensembles: CSPA: consensus clustering using CSPA.\n",
      "\n",
      "#\n",
      "INFO: Cluster_Ensembles: wgraph: writing wgraph_CSPA.\n",
      "#\n",
      "\n",
      "#\n",
      "INFO: Cluster_Ensembles: sgraph: calling gpmetis for graph partitioning.\n",
      "INFO: Cluster_Ensembles: sgraph: (hyper)-graph partitioning completed; loading wgraph_CSPA.part.4\n",
      "#\n"
     ]
    },
    {
     "name": "stderr",
     "output_type": "stream",
     "text": [
      "/home/nazim/.local/lib/python3.6/site-packages/sklearn/metrics/cluster/supervised.py:859: FutureWarning: The behavior of NMI will change in version 0.22. To match the behavior of 'v_measure_score', NMI will use average_method='arithmetic' by default.\n",
      "  FutureWarning)\n",
      "/home/nazim/.local/lib/python3.6/site-packages/sklearn/metrics/cluster/supervised.py:859: FutureWarning: The behavior of NMI will change in version 0.22. To match the behavior of 'v_measure_score', NMI will use average_method='arithmetic' by default.\n",
      "  FutureWarning)\n",
      "/home/nazim/.local/lib/python3.6/site-packages/sklearn/metrics/cluster/supervised.py:859: FutureWarning: The behavior of NMI will change in version 0.22. To match the behavior of 'v_measure_score', NMI will use average_method='arithmetic' by default.\n",
      "  FutureWarning)\n",
      "/home/nazim/.local/lib/python3.6/site-packages/sklearn/metrics/cluster/supervised.py:859: FutureWarning: The behavior of NMI will change in version 0.22. To match the behavior of 'v_measure_score', NMI will use average_method='arithmetic' by default.\n",
      "  FutureWarning)\n",
      "/home/nazim/.local/lib/python3.6/site-packages/sklearn/metrics/cluster/supervised.py:859: FutureWarning: The behavior of NMI will change in version 0.22. To match the behavior of 'v_measure_score', NMI will use average_method='arithmetic' by default.\n",
      "  FutureWarning)\n"
     ]
    },
    {
     "name": "stdout",
     "output_type": "stream",
     "text": [
      "\n",
      "INFO: Cluster_Ensembles: cluster_ensembles: CSPA at 0.7047078406510274.\n",
      "*****\n",
      "\n",
      "*****\n",
      "INFO: Cluster_Ensembles: HGPA: consensus clustering using HGPA.\n",
      "\n",
      "#\n",
      "INFO: Cluster_Ensembles: wgraph: writing wgraph_HGPA.\n",
      "INFO: Cluster_Ensembles: wgraph: 7094 vertices and 20 non-zero hyper-edges.\n",
      "#\n",
      "\n",
      "#\n",
      "INFO: Cluster_Ensembles: sgraph: calling shmetis for hypergraph partitioning.\n",
      "INFO: Cluster_Ensembles: sgraph: (hyper)-graph partitioning completed; loading wgraph_HGPA.part.4\n",
      "#\n"
     ]
    },
    {
     "name": "stderr",
     "output_type": "stream",
     "text": [
      "/home/nazim/.local/lib/python3.6/site-packages/sklearn/metrics/cluster/supervised.py:859: FutureWarning: The behavior of NMI will change in version 0.22. To match the behavior of 'v_measure_score', NMI will use average_method='arithmetic' by default.\n",
      "  FutureWarning)\n",
      "/home/nazim/.local/lib/python3.6/site-packages/sklearn/metrics/cluster/supervised.py:859: FutureWarning: The behavior of NMI will change in version 0.22. To match the behavior of 'v_measure_score', NMI will use average_method='arithmetic' by default.\n",
      "  FutureWarning)\n",
      "/home/nazim/.local/lib/python3.6/site-packages/sklearn/metrics/cluster/supervised.py:859: FutureWarning: The behavior of NMI will change in version 0.22. To match the behavior of 'v_measure_score', NMI will use average_method='arithmetic' by default.\n",
      "  FutureWarning)\n",
      "/home/nazim/.local/lib/python3.6/site-packages/sklearn/metrics/cluster/supervised.py:859: FutureWarning: The behavior of NMI will change in version 0.22. To match the behavior of 'v_measure_score', NMI will use average_method='arithmetic' by default.\n",
      "  FutureWarning)\n",
      "/home/nazim/.local/lib/python3.6/site-packages/sklearn/metrics/cluster/supervised.py:859: FutureWarning: The behavior of NMI will change in version 0.22. To match the behavior of 'v_measure_score', NMI will use average_method='arithmetic' by default.\n",
      "  FutureWarning)\n"
     ]
    },
    {
     "name": "stdout",
     "output_type": "stream",
     "text": [
      "\n",
      "INFO: Cluster_Ensembles: cluster_ensembles: HGPA at 0.19373776101686518.\n",
      "*****\n",
      "\n",
      "*****\n",
      "INFO: Cluster_Ensembles: MCLA: consensus clustering using MCLA.\n",
      "INFO: Cluster_Ensembles: MCLA: preparing graph for meta-clustering.\n",
      "INFO: Cluster_Ensembles: MCLA: done filling hypergraph adjacency matrix. Starting computation of Jaccard similarity matrix.\n",
      "INFO: Cluster_Ensembles: MCLA: starting computation of Jaccard similarity matrix.\n",
      "INFO: Cluster_Ensembles: MCLA: done computing the matrix of pairwise Jaccard similarity scores.\n",
      "\n",
      "#\n",
      "INFO: Cluster_Ensembles: wgraph: writing wgraph_MCLA.\n",
      "#\n",
      "\n",
      "#\n",
      "INFO: Cluster_Ensembles: sgraph: calling gpmetis for graph partitioning.\n",
      "INFO: Cluster_Ensembles: sgraph: (hyper)-graph partitioning completed; loading wgraph_MCLA.part.4\n",
      "#\n",
      "INFO: Cluster_Ensembles: MCLA: delivering 4 clusters.\n",
      "INFO: Cluster_Ensembles: MCLA: average posterior probability is 0.5225638784454095\n",
      "\n",
      "INFO: Cluster_Ensembles: cluster_ensembles: MCLA at 0.8624177763153371.\n",
      "*****\n"
     ]
    },
    {
     "name": "stderr",
     "output_type": "stream",
     "text": [
      "/home/nazim/.local/lib/python3.6/site-packages/sklearn/metrics/cluster/supervised.py:859: FutureWarning: The behavior of NMI will change in version 0.22. To match the behavior of 'v_measure_score', NMI will use average_method='arithmetic' by default.\n",
      "  FutureWarning)\n",
      "/home/nazim/.local/lib/python3.6/site-packages/sklearn/metrics/cluster/supervised.py:859: FutureWarning: The behavior of NMI will change in version 0.22. To match the behavior of 'v_measure_score', NMI will use average_method='arithmetic' by default.\n",
      "  FutureWarning)\n",
      "/home/nazim/.local/lib/python3.6/site-packages/sklearn/metrics/cluster/supervised.py:859: FutureWarning: The behavior of NMI will change in version 0.22. To match the behavior of 'v_measure_score', NMI will use average_method='arithmetic' by default.\n",
      "  FutureWarning)\n",
      "/home/nazim/.local/lib/python3.6/site-packages/sklearn/metrics/cluster/supervised.py:859: FutureWarning: The behavior of NMI will change in version 0.22. To match the behavior of 'v_measure_score', NMI will use average_method='arithmetic' by default.\n",
      "  FutureWarning)\n",
      "/home/nazim/.local/lib/python3.6/site-packages/sklearn/metrics/cluster/supervised.py:859: FutureWarning: The behavior of NMI will change in version 0.22. To match the behavior of 'v_measure_score', NMI will use average_method='arithmetic' by default.\n",
      "  FutureWarning)\n"
     ]
    }
   ],
   "source": [
    "import Cluster_Ensembles as CE\n",
    "consensus_clustering_labels = CE.cluster_ensembles(d, verbose = True, N_clusters_max = 4)"
   ]
  },
  {
   "cell_type": "code",
   "execution_count": 9,
   "metadata": {},
   "outputs": [
    {
     "name": "stdout",
     "output_type": "stream",
     "text": [
      "NMI: 0.7516715873404098\n",
      "ARI: 0.7172878005592564\n"
     ]
    },
    {
     "name": "stderr",
     "output_type": "stream",
     "text": [
      "/home/nazim/.local/lib/python3.6/site-packages/sklearn/metrics/cluster/supervised.py:859: FutureWarning: The behavior of NMI will change in version 0.22. To match the behavior of 'v_measure_score', NMI will use average_method='arithmetic' by default.\n",
      "  FutureWarning)\n"
     ]
    }
   ],
   "source": [
    "predicted_row_labels=consensus_clustering_labels\n",
    "true_row_labels = matlab_dict['labels'].flatten()\n",
    "nmi_cons = nmi(true_row_labels, predicted_row_labels)\n",
    "ari_cons= ari(true_row_labels, predicted_row_labels)\n",
    "print(\"NMI: {}\\nARI: {}\".format(nmi_cons, ari_cons))"
   ]
  },
  {
   "cell_type": "code",
   "execution_count": 10,
   "metadata": {},
   "outputs": [],
   "source": [
    "h=w=nbr_label\n",
    "Matrix = [[0 for x in range(w)] for y in range(h)]\n",
    "m=np.array(Matrix)\n",
    "d=d.transpose()\n",
    "for i in range(0,nbr_label):\n",
    "    for j in range(0,nbr_label):\n",
    "        sum=0\n",
    "        for k in range(0,5):\n",
    "            if(d[i,k]==d[j,k]):\n",
    "                sum=sum+1\n",
    "        sum=sum/5\n",
    "        m[i,j]=sum"
   ]
  },
  {
   "cell_type": "code",
   "execution_count": 11,
   "metadata": {},
   "outputs": [
    {
     "name": "stdout",
     "output_type": "stream",
     "text": [
      "CRITERION: 1.2607375613111278\n",
      "NMI: 0.6804522463884277\n",
      "ARI: 0.6402002202947104\n"
     ]
    },
    {
     "name": "stderr",
     "output_type": "stream",
     "text": [
      "/home/nazim/.local/lib/python3.6/site-packages/sklearn/metrics/cluster/supervised.py:859: FutureWarning: The behavior of NMI will change in version 0.22. To match the behavior of 'v_measure_score', NMI will use average_method='arithmetic' by default.\n",
      "  FutureWarning)\n"
     ]
    }
   ],
   "source": [
    "nb_cluster=4  \n",
    "model = CoclustInfo(n_row_clusters=nb_cluster, n_col_clusters=nb_clusters,max_iter=10,\n",
    "                    n_init=5, random_state=5)\n",
    "model.fit(m)\n",
    "\n",
    "\n",
    "print(\"CRITERION: %s\" % model.criterion)\n",
    "cri=model.criterion\n",
    "true_row_labels = matlab_dict['labels'].flatten()\n",
    "predicted_row_labels = model.row_labels_\n",
    "nmi= nmi(true_row_labels, predicted_row_labels)\n",
    "ari= ari(true_row_labels, predicted_row_labels)\n",
    "print(\"NMI: {}\\nARI: {}\".format(nmi, ari))"
   ]
  },
  {
   "cell_type": "code",
   "execution_count": 6,
   "metadata": {},
   "outputs": [
    {
     "name": "stderr",
     "output_type": "stream",
     "text": [
      "/home/nazim/.local/lib/python3.6/site-packages/sklearn/externals/joblib/__init__.py:15: DeprecationWarning: sklearn.externals.joblib is deprecated in 0.21 and will be removed in 0.23. Please import this functionality directly from joblib, which can be installed with: pip install joblib. If this warning is raised when loading pickled models, you may need to re-serialize those models with scikit-learn 0.21+.\n",
      "  warnings.warn(msg, category=DeprecationWarning)\n"
     ]
    }
   ],
   "source": [
    "liste = np.empty((6, 4)).tolist()\n",
    "#d=d.transpose()\n",
    "for i in range(0,5):\n",
    "    liste[i]=d[i]\n",
    "from spherecluster import SphericalKMeans\n",
    "X=matlab_dict_norm['dtm']\n",
    "skm = SphericalKMeans(n_clusters=4)\n",
    "skm.fit(X)\n",
    "liste[5]=skm.labels_\n",
    "liste=np.array(liste)\n"
   ]
  },
  {
   "cell_type": "code",
   "execution_count": 7,
   "metadata": {},
   "outputs": [
    {
     "name": "stdout",
     "output_type": "stream",
     "text": [
      "*****\n",
      "INFO: Cluster_Ensembles: CSPA: consensus clustering using CSPA.\n",
      "\n",
      "#\n",
      "INFO: Cluster_Ensembles: wgraph: writing wgraph_CSPA.\n",
      "#\n",
      "\n",
      "#\n",
      "INFO: Cluster_Ensembles: sgraph: calling gpmetis for graph partitioning.\n",
      "INFO: Cluster_Ensembles: sgraph: (hyper)-graph partitioning completed; loading wgraph_CSPA.part.4\n",
      "#\n"
     ]
    },
    {
     "name": "stderr",
     "output_type": "stream",
     "text": [
      "/home/nazim/.local/lib/python3.6/site-packages/sklearn/metrics/cluster/supervised.py:859: FutureWarning: The behavior of NMI will change in version 0.22. To match the behavior of 'v_measure_score', NMI will use average_method='arithmetic' by default.\n",
      "  FutureWarning)\n",
      "/home/nazim/.local/lib/python3.6/site-packages/sklearn/metrics/cluster/supervised.py:859: FutureWarning: The behavior of NMI will change in version 0.22. To match the behavior of 'v_measure_score', NMI will use average_method='arithmetic' by default.\n",
      "  FutureWarning)\n",
      "/home/nazim/.local/lib/python3.6/site-packages/sklearn/metrics/cluster/supervised.py:859: FutureWarning: The behavior of NMI will change in version 0.22. To match the behavior of 'v_measure_score', NMI will use average_method='arithmetic' by default.\n",
      "  FutureWarning)\n",
      "/home/nazim/.local/lib/python3.6/site-packages/sklearn/metrics/cluster/supervised.py:859: FutureWarning: The behavior of NMI will change in version 0.22. To match the behavior of 'v_measure_score', NMI will use average_method='arithmetic' by default.\n",
      "  FutureWarning)\n",
      "/home/nazim/.local/lib/python3.6/site-packages/sklearn/metrics/cluster/supervised.py:859: FutureWarning: The behavior of NMI will change in version 0.22. To match the behavior of 'v_measure_score', NMI will use average_method='arithmetic' by default.\n",
      "  FutureWarning)\n",
      "/home/nazim/.local/lib/python3.6/site-packages/sklearn/metrics/cluster/supervised.py:859: FutureWarning: The behavior of NMI will change in version 0.22. To match the behavior of 'v_measure_score', NMI will use average_method='arithmetic' by default.\n",
      "  FutureWarning)\n"
     ]
    },
    {
     "name": "stdout",
     "output_type": "stream",
     "text": [
      "\n",
      "INFO: Cluster_Ensembles: cluster_ensembles: CSPA at 0.6350556391465959.\n",
      "*****\n",
      "\n",
      "*****\n",
      "INFO: Cluster_Ensembles: HGPA: consensus clustering using HGPA.\n",
      "\n",
      "#\n",
      "INFO: Cluster_Ensembles: wgraph: writing wgraph_HGPA.\n",
      "INFO: Cluster_Ensembles: wgraph: 7094 vertices and 24 non-zero hyper-edges.\n",
      "#\n",
      "\n",
      "#\n",
      "INFO: Cluster_Ensembles: sgraph: calling shmetis for hypergraph partitioning.\n",
      "INFO: Cluster_Ensembles: sgraph: (hyper)-graph partitioning completed; loading wgraph_HGPA.part.4\n",
      "#\n"
     ]
    },
    {
     "name": "stderr",
     "output_type": "stream",
     "text": [
      "/home/nazim/.local/lib/python3.6/site-packages/sklearn/metrics/cluster/supervised.py:859: FutureWarning: The behavior of NMI will change in version 0.22. To match the behavior of 'v_measure_score', NMI will use average_method='arithmetic' by default.\n",
      "  FutureWarning)\n",
      "/home/nazim/.local/lib/python3.6/site-packages/sklearn/metrics/cluster/supervised.py:859: FutureWarning: The behavior of NMI will change in version 0.22. To match the behavior of 'v_measure_score', NMI will use average_method='arithmetic' by default.\n",
      "  FutureWarning)\n",
      "/home/nazim/.local/lib/python3.6/site-packages/sklearn/metrics/cluster/supervised.py:859: FutureWarning: The behavior of NMI will change in version 0.22. To match the behavior of 'v_measure_score', NMI will use average_method='arithmetic' by default.\n",
      "  FutureWarning)\n",
      "/home/nazim/.local/lib/python3.6/site-packages/sklearn/metrics/cluster/supervised.py:859: FutureWarning: The behavior of NMI will change in version 0.22. To match the behavior of 'v_measure_score', NMI will use average_method='arithmetic' by default.\n",
      "  FutureWarning)\n",
      "/home/nazim/.local/lib/python3.6/site-packages/sklearn/metrics/cluster/supervised.py:859: FutureWarning: The behavior of NMI will change in version 0.22. To match the behavior of 'v_measure_score', NMI will use average_method='arithmetic' by default.\n",
      "  FutureWarning)\n",
      "/home/nazim/.local/lib/python3.6/site-packages/sklearn/metrics/cluster/supervised.py:859: FutureWarning: The behavior of NMI will change in version 0.22. To match the behavior of 'v_measure_score', NMI will use average_method='arithmetic' by default.\n",
      "  FutureWarning)\n"
     ]
    },
    {
     "name": "stdout",
     "output_type": "stream",
     "text": [
      "\n",
      "INFO: Cluster_Ensembles: cluster_ensembles: HGPA at 0.16544153740049192.\n",
      "*****\n",
      "\n",
      "*****\n",
      "INFO: Cluster_Ensembles: MCLA: consensus clustering using MCLA.\n",
      "INFO: Cluster_Ensembles: MCLA: preparing graph for meta-clustering.\n",
      "INFO: Cluster_Ensembles: MCLA: done filling hypergraph adjacency matrix. Starting computation of Jaccard similarity matrix.\n",
      "INFO: Cluster_Ensembles: MCLA: starting computation of Jaccard similarity matrix.\n",
      "INFO: Cluster_Ensembles: MCLA: done computing the matrix of pairwise Jaccard similarity scores.\n",
      "\n",
      "#\n",
      "INFO: Cluster_Ensembles: wgraph: writing wgraph_MCLA.\n",
      "#\n",
      "\n",
      "#\n",
      "INFO: Cluster_Ensembles: sgraph: calling gpmetis for graph partitioning.\n",
      "INFO: Cluster_Ensembles: sgraph: (hyper)-graph partitioning completed; loading wgraph_MCLA.part.4\n",
      "#\n",
      "INFO: Cluster_Ensembles: MCLA: delivering 4 clusters.\n",
      "INFO: Cluster_Ensembles: MCLA: average posterior probability is 0.5009101811877532\n",
      "\n",
      "INFO: Cluster_Ensembles: cluster_ensembles: MCLA at 0.8109488342976917.\n",
      "*****\n"
     ]
    },
    {
     "name": "stderr",
     "output_type": "stream",
     "text": [
      "/home/nazim/.local/lib/python3.6/site-packages/sklearn/metrics/cluster/supervised.py:859: FutureWarning: The behavior of NMI will change in version 0.22. To match the behavior of 'v_measure_score', NMI will use average_method='arithmetic' by default.\n",
      "  FutureWarning)\n",
      "/home/nazim/.local/lib/python3.6/site-packages/sklearn/metrics/cluster/supervised.py:859: FutureWarning: The behavior of NMI will change in version 0.22. To match the behavior of 'v_measure_score', NMI will use average_method='arithmetic' by default.\n",
      "  FutureWarning)\n",
      "/home/nazim/.local/lib/python3.6/site-packages/sklearn/metrics/cluster/supervised.py:859: FutureWarning: The behavior of NMI will change in version 0.22. To match the behavior of 'v_measure_score', NMI will use average_method='arithmetic' by default.\n",
      "  FutureWarning)\n",
      "/home/nazim/.local/lib/python3.6/site-packages/sklearn/metrics/cluster/supervised.py:859: FutureWarning: The behavior of NMI will change in version 0.22. To match the behavior of 'v_measure_score', NMI will use average_method='arithmetic' by default.\n",
      "  FutureWarning)\n",
      "/home/nazim/.local/lib/python3.6/site-packages/sklearn/metrics/cluster/supervised.py:859: FutureWarning: The behavior of NMI will change in version 0.22. To match the behavior of 'v_measure_score', NMI will use average_method='arithmetic' by default.\n",
      "  FutureWarning)\n",
      "/home/nazim/.local/lib/python3.6/site-packages/sklearn/metrics/cluster/supervised.py:859: FutureWarning: The behavior of NMI will change in version 0.22. To match the behavior of 'v_measure_score', NMI will use average_method='arithmetic' by default.\n",
      "  FutureWarning)\n"
     ]
    }
   ],
   "source": [
    "import Cluster_Ensembles as CE\n",
    "consensus_clustering_labels = CE.cluster_ensembles(liste, verbose = True, N_clusters_max = 4)"
   ]
  },
  {
   "cell_type": "code",
   "execution_count": 8,
   "metadata": {},
   "outputs": [
    {
     "name": "stdout",
     "output_type": "stream",
     "text": [
      "NMI: 0.7543783703062111\n",
      "ARI: 0.7185286128747808\n"
     ]
    },
    {
     "name": "stderr",
     "output_type": "stream",
     "text": [
      "/home/nazim/.local/lib/python3.6/site-packages/sklearn/metrics/cluster/supervised.py:859: FutureWarning: The behavior of NMI will change in version 0.22. To match the behavior of 'v_measure_score', NMI will use average_method='arithmetic' by default.\n",
      "  FutureWarning)\n"
     ]
    }
   ],
   "source": [
    "predicted_row_labels=consensus_clustering_labels\n",
    "\n",
    "true_row_labels = matlab_dict['labels'].flatten()\n",
    "nmi_cons = nmi(true_row_labels, predicted_row_labels)\n",
    "ari_cons= ari(true_row_labels, predicted_row_labels)\n",
    "print(\"NMI: {}\\nARI: {}\".format(nmi_cons, ari_cons))"
   ]
  },
  {
   "cell_type": "code",
   "execution_count": 5,
   "metadata": {},
   "outputs": [],
   "source": [
    "d= np.loadtxt(\"classic4_(2)/d.txt\", dtype=int)"
   ]
  },
  {
   "cell_type": "code",
   "execution_count": 5,
   "metadata": {},
   "outputs": [
    {
     "data": {
      "text/plain": [
       "array([2, 2, 2, ..., 1, 1, 1])"
      ]
     },
     "execution_count": 5,
     "metadata": {},
     "output_type": "execute_result"
    }
   ],
   "source": [
    "d[1]"
   ]
  }
 ],
 "metadata": {
  "kernelspec": {
   "display_name": "Python 3",
   "language": "python",
   "name": "python3"
  },
  "language_info": {
   "codemirror_mode": {
    "name": "ipython",
    "version": 3
   },
   "file_extension": ".py",
   "mimetype": "text/x-python",
   "name": "python",
   "nbconvert_exporter": "python",
   "pygments_lexer": "ipython3",
   "version": "3.6.8"
  }
 },
 "nbformat": 4,
 "nbformat_minor": 2
}
